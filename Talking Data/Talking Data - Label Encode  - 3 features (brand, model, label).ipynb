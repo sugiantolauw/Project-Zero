{
 "cells": [
  {
   "cell_type": "code",
   "execution_count": 1,
   "metadata": {
    "collapsed": true
   },
   "outputs": [],
   "source": [
    "import numpy as np\n",
    "import pandas as pd\n",
    "import matplotlib.pyplot as plt\n",
    "import seaborn as sns\n",
    "\n",
    "from sklearn.decomposition import PCA, KernelPCA\n",
    "from sklearn.cross_validation import KFold, cross_val_score\n",
    "from sklearn.metrics import make_scorer\n",
    "from sklearn.grid_search import GridSearchCV\n",
    "from sklearn.feature_selection import VarianceThreshold, RFE, SelectKBest, chi2\n",
    "from sklearn.preprocessing import MinMaxScaler\n",
    "from sklearn.pipeline import Pipeline, FeatureUnion\n",
    "from sklearn.linear_model import LogisticRegression\n",
    "from sklearn.discriminant_analysis import LinearDiscriminantAnalysis\n",
    "from sklearn.neighbors import KNeighborsClassifier\n",
    "from sklearn.tree import DecisionTreeClassifier\n",
    "from sklearn.naive_bayes import GaussianNB\n",
    "from sklearn.svm import SVC\n",
    "from sklearn.ensemble import BaggingClassifier, ExtraTreesClassifier, GradientBoostingClassifier, VotingClassifier, RandomForestClassifier, AdaBoostClassifier\n",
    "\n",
    "%matplotlib inline\n",
    "sns.set_style('whitegrid')\n",
    "pd.set_option('display.max_columns', None) # display all columns"
   ]
  },
  {
   "cell_type": "markdown",
   "metadata": {},
   "source": [
    "# Load Data Set here"
   ]
  },
  {
   "cell_type": "code",
   "execution_count": 66,
   "metadata": {
    "collapsed": true
   },
   "outputs": [],
   "source": [
    "train = pd.read_csv('train.csv') # This is the label encode version"
   ]
  },
  {
   "cell_type": "code",
   "execution_count": 67,
   "metadata": {
    "collapsed": false
   },
   "outputs": [],
   "source": [
    "train = train.drop('Unnamed: 0', axis=1)"
   ]
  },
  {
   "cell_type": "code",
   "execution_count": 68,
   "metadata": {
    "collapsed": false
   },
   "outputs": [
    {
     "data": {
      "text/html": [
       "<div>\n",
       "<table border=\"1\" class=\"dataframe\">\n",
       "  <thead>\n",
       "    <tr style=\"text-align: right;\">\n",
       "      <th></th>\n",
       "      <th>device_id</th>\n",
       "      <th>group</th>\n",
       "      <th>phone_brand</th>\n",
       "      <th>device_model</th>\n",
       "      <th>counts</th>\n",
       "      <th>installed</th>\n",
       "      <th>active</th>\n",
       "      <th>label_id</th>\n",
       "    </tr>\n",
       "  </thead>\n",
       "  <tbody>\n",
       "    <tr>\n",
       "      <th>0</th>\n",
       "      <td>-8076087639492063270</td>\n",
       "      <td>10</td>\n",
       "      <td>51</td>\n",
       "      <td>749</td>\n",
       "      <td>-1.0</td>\n",
       "      <td>-1.0</td>\n",
       "      <td>-1.0</td>\n",
       "      <td>-1.0</td>\n",
       "    </tr>\n",
       "    <tr>\n",
       "      <th>1</th>\n",
       "      <td>-2897161552818060146</td>\n",
       "      <td>10</td>\n",
       "      <td>51</td>\n",
       "      <td>749</td>\n",
       "      <td>-1.0</td>\n",
       "      <td>-1.0</td>\n",
       "      <td>-1.0</td>\n",
       "      <td>-1.0</td>\n",
       "    </tr>\n",
       "    <tr>\n",
       "      <th>2</th>\n",
       "      <td>-8260683887967679142</td>\n",
       "      <td>10</td>\n",
       "      <td>51</td>\n",
       "      <td>749</td>\n",
       "      <td>1.0</td>\n",
       "      <td>53.0</td>\n",
       "      <td>6.0</td>\n",
       "      <td>713.0</td>\n",
       "    </tr>\n",
       "    <tr>\n",
       "      <th>3</th>\n",
       "      <td>-4938849341048082022</td>\n",
       "      <td>9</td>\n",
       "      <td>51</td>\n",
       "      <td>1524</td>\n",
       "      <td>-1.0</td>\n",
       "      <td>-1.0</td>\n",
       "      <td>-1.0</td>\n",
       "      <td>-1.0</td>\n",
       "    </tr>\n",
       "    <tr>\n",
       "      <th>4</th>\n",
       "      <td>245133531816851882</td>\n",
       "      <td>9</td>\n",
       "      <td>51</td>\n",
       "      <td>753</td>\n",
       "      <td>-1.0</td>\n",
       "      <td>-1.0</td>\n",
       "      <td>-1.0</td>\n",
       "      <td>-1.0</td>\n",
       "    </tr>\n",
       "  </tbody>\n",
       "</table>\n",
       "</div>"
      ],
      "text/plain": [
       "             device_id  group  phone_brand  device_model  counts  installed  \\\n",
       "0 -8076087639492063270     10           51           749    -1.0       -1.0   \n",
       "1 -2897161552818060146     10           51           749    -1.0       -1.0   \n",
       "2 -8260683887967679142     10           51           749     1.0       53.0   \n",
       "3 -4938849341048082022      9           51          1524    -1.0       -1.0   \n",
       "4   245133531816851882      9           51           753    -1.0       -1.0   \n",
       "\n",
       "   active  label_id  \n",
       "0    -1.0      -1.0  \n",
       "1    -1.0      -1.0  \n",
       "2     6.0     713.0  \n",
       "3    -1.0      -1.0  \n",
       "4    -1.0      -1.0  "
      ]
     },
     "execution_count": 68,
     "metadata": {},
     "output_type": "execute_result"
    }
   ],
   "source": [
    "train.head()"
   ]
  },
  {
   "cell_type": "code",
   "execution_count": 69,
   "metadata": {
    "collapsed": true
   },
   "outputs": [],
   "source": [
    "demo = pd.read_csv('gender_age_train.csv')"
   ]
  },
  {
   "cell_type": "code",
   "execution_count": 70,
   "metadata": {
    "collapsed": false
   },
   "outputs": [],
   "source": [
    "train = pd.merge(train, demo, how='left', on='device_id')"
   ]
  },
  {
   "cell_type": "code",
   "execution_count": 71,
   "metadata": {
    "collapsed": false
   },
   "outputs": [
    {
     "data": {
      "text/plain": [
       "74645"
      ]
     },
     "execution_count": 71,
     "metadata": {},
     "output_type": "execute_result"
    }
   ],
   "source": [
    "train.shape[0]"
   ]
  },
  {
   "cell_type": "code",
   "execution_count": 72,
   "metadata": {
    "collapsed": false
   },
   "outputs": [
    {
     "data": {
      "text/html": [
       "<div>\n",
       "<table border=\"1\" class=\"dataframe\">\n",
       "  <thead>\n",
       "    <tr style=\"text-align: right;\">\n",
       "      <th></th>\n",
       "      <th>device_id</th>\n",
       "      <th>group_x</th>\n",
       "      <th>phone_brand</th>\n",
       "      <th>device_model</th>\n",
       "      <th>counts</th>\n",
       "      <th>installed</th>\n",
       "      <th>active</th>\n",
       "      <th>label_id</th>\n",
       "      <th>gender</th>\n",
       "      <th>age</th>\n",
       "      <th>group_y</th>\n",
       "    </tr>\n",
       "  </thead>\n",
       "  <tbody>\n",
       "    <tr>\n",
       "      <th>0</th>\n",
       "      <td>-8076087639492063270</td>\n",
       "      <td>10</td>\n",
       "      <td>51</td>\n",
       "      <td>749</td>\n",
       "      <td>-1.0</td>\n",
       "      <td>-1.0</td>\n",
       "      <td>-1.0</td>\n",
       "      <td>-1.0</td>\n",
       "      <td>M</td>\n",
       "      <td>35</td>\n",
       "      <td>M32-38</td>\n",
       "    </tr>\n",
       "    <tr>\n",
       "      <th>1</th>\n",
       "      <td>-2897161552818060146</td>\n",
       "      <td>10</td>\n",
       "      <td>51</td>\n",
       "      <td>749</td>\n",
       "      <td>-1.0</td>\n",
       "      <td>-1.0</td>\n",
       "      <td>-1.0</td>\n",
       "      <td>-1.0</td>\n",
       "      <td>M</td>\n",
       "      <td>35</td>\n",
       "      <td>M32-38</td>\n",
       "    </tr>\n",
       "    <tr>\n",
       "      <th>2</th>\n",
       "      <td>-8260683887967679142</td>\n",
       "      <td>10</td>\n",
       "      <td>51</td>\n",
       "      <td>749</td>\n",
       "      <td>1.0</td>\n",
       "      <td>53.0</td>\n",
       "      <td>6.0</td>\n",
       "      <td>713.0</td>\n",
       "      <td>M</td>\n",
       "      <td>35</td>\n",
       "      <td>M32-38</td>\n",
       "    </tr>\n",
       "    <tr>\n",
       "      <th>3</th>\n",
       "      <td>-4938849341048082022</td>\n",
       "      <td>9</td>\n",
       "      <td>51</td>\n",
       "      <td>1524</td>\n",
       "      <td>-1.0</td>\n",
       "      <td>-1.0</td>\n",
       "      <td>-1.0</td>\n",
       "      <td>-1.0</td>\n",
       "      <td>M</td>\n",
       "      <td>30</td>\n",
       "      <td>M29-31</td>\n",
       "    </tr>\n",
       "    <tr>\n",
       "      <th>4</th>\n",
       "      <td>245133531816851882</td>\n",
       "      <td>9</td>\n",
       "      <td>51</td>\n",
       "      <td>753</td>\n",
       "      <td>-1.0</td>\n",
       "      <td>-1.0</td>\n",
       "      <td>-1.0</td>\n",
       "      <td>-1.0</td>\n",
       "      <td>M</td>\n",
       "      <td>30</td>\n",
       "      <td>M29-31</td>\n",
       "    </tr>\n",
       "  </tbody>\n",
       "</table>\n",
       "</div>"
      ],
      "text/plain": [
       "             device_id  group_x  phone_brand  device_model  counts  installed  \\\n",
       "0 -8076087639492063270       10           51           749    -1.0       -1.0   \n",
       "1 -2897161552818060146       10           51           749    -1.0       -1.0   \n",
       "2 -8260683887967679142       10           51           749     1.0       53.0   \n",
       "3 -4938849341048082022        9           51          1524    -1.0       -1.0   \n",
       "4   245133531816851882        9           51           753    -1.0       -1.0   \n",
       "\n",
       "   active  label_id gender  age group_y  \n",
       "0    -1.0      -1.0      M   35  M32-38  \n",
       "1    -1.0      -1.0      M   35  M32-38  \n",
       "2     6.0     713.0      M   35  M32-38  \n",
       "3    -1.0      -1.0      M   30  M29-31  \n",
       "4    -1.0      -1.0      M   30  M29-31  "
      ]
     },
     "execution_count": 72,
     "metadata": {},
     "output_type": "execute_result"
    }
   ],
   "source": [
    "train.head()"
   ]
  },
  {
   "cell_type": "markdown",
   "metadata": {},
   "source": [
    "# Data Visualisation"
   ]
  },
  {
   "cell_type": "markdown",
   "metadata": {},
   "source": [
    "# Age and gender distributions"
   ]
  },
  {
   "cell_type": "code",
   "execution_count": 17,
   "metadata": {
    "collapsed": false
   },
   "outputs": [
    {
     "data": {
      "text/plain": [
       "<matplotlib.axes._subplots.AxesSubplot at 0xb8bfba8>"
      ]
     },
     "execution_count": 17,
     "metadata": {},
     "output_type": "execute_result"
    },
    {
     "data": {
      "image/png": "[encoded data removed]",
      "text/plain": [
       "<matplotlib.figure.Figure at 0xb8d3048>"
      ]
     },
     "metadata": {},
     "output_type": "display_data"
    }
   ],
   "source": [
    "train.group_y.value_counts().sort_index(ascending=False).plot(kind='barh')"
   ]
  },
  {
   "cell_type": "code",
   "execution_count": 18,
   "metadata": {
    "collapsed": false
   },
   "outputs": [
    {
     "data": {
      "text/plain": [
       "<matplotlib.axes._subplots.AxesSubplot at 0xbad75c0>"
      ]
     },
     "execution_count": 18,
     "metadata": {},
     "output_type": "execute_result"
    },
    {
     "data": {
      "image/png": "[encoded data removed]",
      "text/plain": [
       "<matplotlib.figure.Figure at 0xb3964a8>"
      ]
     },
     "metadata": {},
     "output_type": "display_data"
    }
   ],
   "source": [
    "train.gender.value_counts().plot(kind='barh')"
   ]
  },
  {
   "cell_type": "markdown",
   "metadata": {},
   "source": [
    "# Looks like we have more male samples than female.\n",
    "\n",
    "•\tMales were more likely to participate and grant permission for use of their details\n",
    "\n",
    "•\tmales in general own more phones than females\n",
    "\n",
    "•\tthe one-child policy has resulted in a disproportionately high percentage of Males."
   ]
  },
  {
   "cell_type": "code",
   "execution_count": 26,
   "metadata": {
    "collapsed": false
   },
   "outputs": [
    {
     "data": {
      "image/png": "[encoded data removed]",
      "text/plain": [
       "<matplotlib.figure.Figure at 0xddd0860>"
      ]
     },
     "metadata": {},
     "output_type": "display_data"
    }
   ],
   "source": [
    "c = train.groupby(['age','gender']).size().unstack().reindex(index=np.arange(train.age.min(), \n",
    "                                                                            train.age.max()+1)).fillna(0)\n",
    "ax1, ax2 = c.plot(kind='bar', figsize=(12,6),subplots=True)\n",
    "ax1.vlines(np.array([23,26,28,32,42])-0.5,0,1800,alpha=0.5,linewidth=1,color='r')\n",
    "ax2.vlines(np.array([22,26,28,31,38])-0.5,0,3000,alpha=0.5,linewidth=1,color='r')"
   ]
  },
  {
   "cell_type": "markdown",
   "metadata": {},
   "source": [
    "# Brands and Models popularity"
   ]
  },
  {
   "cell_type": "code",
   "execution_count": 27,
   "metadata": {
    "collapsed": false
   },
   "outputs": [
    {
     "data": {
      "image/png": "[encoded data removed]",
      "text/plain": [
       "<matplotlib.figure.Figure at 0x111ee4a8>"
      ]
     },
     "metadata": {},
     "output_type": "display_data"
    }
   ],
   "source": [
    "c = train.phone_brand.value_counts()\n",
    "s = c.cumsum()/c.sum()\n",
    "fig, (ax1,ax2) = plt.subplots(1,2,sharey=True,figsize=(10,4))\n",
    "ax1.plot(np.arange(s.shape[0])+1, s.values*100)\n",
    "ax1.set_xlim(0,30)\n",
    "ax1.set_xlabel('N most popular brands')\n",
    "ax1.set_title('% of devices');\n",
    "c = train.device_model.value_counts()\n",
    "s = c.cumsum()/c.sum()\n",
    "ax2.plot(np.arange(s.shape[0])+1, s.values*100)\n",
    "ax2.set_xlim(0,400)\n",
    "ax2.set_xlabel('N most popular models')\n",
    "ax2.set_title('% of devices');"
   ]
  },
  {
   "cell_type": "markdown",
   "metadata": {},
   "source": [
    "# 9 most popular brands account for 90% of devices. \n",
    "\n",
    "For models the number to account for 90% of devices is 373."
   ]
  },
  {
   "cell_type": "code",
   "execution_count": 30,
   "metadata": {
    "collapsed": true
   },
   "outputs": [],
   "source": [
    "import matplotlib.cm as cm"
   ]
  },
  {
   "cell_type": "code",
   "execution_count": 31,
   "metadata": {
    "collapsed": true
   },
   "outputs": [],
   "source": [
    "def plot_by(df, cat, by, perc = 0.95):\n",
    "    # Find popular categories\n",
    "    c = df[by].value_counts().cumsum()/df.shape[0]\n",
    "    take = c[c<=perc].index\n",
    "    \n",
    "    # Pool rare categories into 'other' cat\n",
    "    gr = df[by].copy()\n",
    "    gr[~(df[by].isin(take))] = 'other'\n",
    "    \n",
    "    # Count target classes in groups\n",
    "    c = df.groupby([gr,cat]).size().unstack().fillna(0)\n",
    "    total = c.sum(axis=1)\n",
    "    meanprobs = c.sum(axis=0).cumsum()/df.shape[0]\n",
    "    \n",
    "    # Transform to probabilities\n",
    "    sortcol = c.columns[int(np.floor((c.shape[1]-1)/2))]\n",
    "    c = c.div(c.sum(axis=1), axis='index')\n",
    "    \n",
    "    # Cumsum for stacked bars\n",
    "    c = c.cumsum(axis=1).sort_values(by=sortcol)\n",
    "    total = total.loc[c.index]\n",
    "    \n",
    "    # Prepare plot data\n",
    "    left = np.zeros(total.shape[0])\n",
    "    left[1:] = total.cumsum().values[:-1]\n",
    "    ticks = left + 0.5*total.values\n",
    "    colors = cm.rainbow(np.linspace(0.1,0.9,num=c.shape[1]))\n",
    "    fig, ax = plt.subplots(figsize=(10,5))\n",
    "    for (i,col) in enumerate(c.columns[::-1]):\n",
    "        height = c[col].values\n",
    "        ax.bar(left, height, total.values,label=col,color=colors[i],zorder = c.shape[0]+i)\n",
    "    for p in meanprobs.iloc[:-1]:\n",
    "        ax.hlines(p, 0, total.sum(),\n",
    "                  color='w',alpha=0.6,zorder=c.shape[0]*10,linewidth=1)\n",
    "        \n",
    "    # legend placement needs more work\n",
    "    ax.legend(bbox_to_anchor=(1.1, 0.8),title=cat)\n",
    "    ax.set_xticks(ticks)\n",
    "    ax.set_xticklabels(total.index, rotation='vertical')\n",
    "    ax.set_xlabel(by)\n",
    "    ax.set_xlim(0,left[-1]+total.values[-1])\n",
    "    return ax"
   ]
  },
  {
   "cell_type": "code",
   "execution_count": 32,
   "metadata": {
    "collapsed": false
   },
   "outputs": [
    {
     "data": {
      "image/png": "[encoded data removed]",
      "text/plain": [
       "<matplotlib.figure.Figure at 0xff1b828>"
      ]
     },
     "metadata": {},
     "output_type": "display_data"
    }
   ],
   "source": [
    "ax = plot_by(train, 'gender', 'phone_brand')"
   ]
  },
  {
   "cell_type": "code",
   "execution_count": 34,
   "metadata": {
    "collapsed": false
   },
   "outputs": [
    {
     "data": {
      "text/plain": [
       "<matplotlib.figure.Figure at 0xf471eb8>"
      ]
     },
     "metadata": {},
     "output_type": "display_data"
    }
   ],
   "source": [
    "plt.savefig('Demo.png')"
   ]
  },
  {
   "cell_type": "code",
   "execution_count": 73,
   "metadata": {
    "collapsed": true
   },
   "outputs": [],
   "source": [
    "brand = pd.read_csv('phone_brand_device_model.csv')"
   ]
  },
  {
   "cell_type": "code",
   "execution_count": 74,
   "metadata": {
    "collapsed": true
   },
   "outputs": [],
   "source": [
    "train = pd.merge(train, brand, how='left', on='device_id')"
   ]
  },
  {
   "cell_type": "code",
   "execution_count": 75,
   "metadata": {
    "collapsed": false
   },
   "outputs": [
    {
     "data": {
      "text/plain": [
       "74839"
      ]
     },
     "execution_count": 75,
     "metadata": {},
     "output_type": "execute_result"
    }
   ],
   "source": [
    "train.shape[0]"
   ]
  },
  {
   "cell_type": "code",
   "execution_count": 76,
   "metadata": {
    "collapsed": true
   },
   "outputs": [],
   "source": [
    "train.drop_duplicates('device_id', keep='first', inplace=True)"
   ]
  },
  {
   "cell_type": "code",
   "execution_count": 77,
   "metadata": {
    "collapsed": false
   },
   "outputs": [
    {
     "data": {
      "text/plain": [
       "74645"
      ]
     },
     "execution_count": 77,
     "metadata": {},
     "output_type": "execute_result"
    }
   ],
   "source": [
    "train.shape[0]"
   ]
  },
  {
   "cell_type": "code",
   "execution_count": 78,
   "metadata": {
    "collapsed": false
   },
   "outputs": [
    {
     "data": {
      "text/html": [
       "<div>\n",
       "<table border=\"1\" class=\"dataframe\">\n",
       "  <thead>\n",
       "    <tr style=\"text-align: right;\">\n",
       "      <th></th>\n",
       "      <th>device_id</th>\n",
       "      <th>group_x</th>\n",
       "      <th>phone_brand_x</th>\n",
       "      <th>device_model_x</th>\n",
       "      <th>counts</th>\n",
       "      <th>installed</th>\n",
       "      <th>active</th>\n",
       "      <th>label_id</th>\n",
       "      <th>gender</th>\n",
       "      <th>age</th>\n",
       "      <th>group_y</th>\n",
       "      <th>phone_brand_y</th>\n",
       "      <th>device_model_y</th>\n",
       "    </tr>\n",
       "  </thead>\n",
       "  <tbody>\n",
       "    <tr>\n",
       "      <th>0</th>\n",
       "      <td>-8076087639492063270</td>\n",
       "      <td>10</td>\n",
       "      <td>51</td>\n",
       "      <td>749</td>\n",
       "      <td>-1.0</td>\n",
       "      <td>-1.0</td>\n",
       "      <td>-1.0</td>\n",
       "      <td>-1.0</td>\n",
       "      <td>M</td>\n",
       "      <td>35</td>\n",
       "      <td>M32-38</td>\n",
       "      <td>小米</td>\n",
       "      <td>MI 2</td>\n",
       "    </tr>\n",
       "    <tr>\n",
       "      <th>1</th>\n",
       "      <td>-2897161552818060146</td>\n",
       "      <td>10</td>\n",
       "      <td>51</td>\n",
       "      <td>749</td>\n",
       "      <td>-1.0</td>\n",
       "      <td>-1.0</td>\n",
       "      <td>-1.0</td>\n",
       "      <td>-1.0</td>\n",
       "      <td>M</td>\n",
       "      <td>35</td>\n",
       "      <td>M32-38</td>\n",
       "      <td>小米</td>\n",
       "      <td>MI 2</td>\n",
       "    </tr>\n",
       "    <tr>\n",
       "      <th>2</th>\n",
       "      <td>-8260683887967679142</td>\n",
       "      <td>10</td>\n",
       "      <td>51</td>\n",
       "      <td>749</td>\n",
       "      <td>1.0</td>\n",
       "      <td>53.0</td>\n",
       "      <td>6.0</td>\n",
       "      <td>713.0</td>\n",
       "      <td>M</td>\n",
       "      <td>35</td>\n",
       "      <td>M32-38</td>\n",
       "      <td>小米</td>\n",
       "      <td>MI 2</td>\n",
       "    </tr>\n",
       "    <tr>\n",
       "      <th>3</th>\n",
       "      <td>-4938849341048082022</td>\n",
       "      <td>9</td>\n",
       "      <td>51</td>\n",
       "      <td>1524</td>\n",
       "      <td>-1.0</td>\n",
       "      <td>-1.0</td>\n",
       "      <td>-1.0</td>\n",
       "      <td>-1.0</td>\n",
       "      <td>M</td>\n",
       "      <td>30</td>\n",
       "      <td>M29-31</td>\n",
       "      <td>小米</td>\n",
       "      <td>红米note</td>\n",
       "    </tr>\n",
       "    <tr>\n",
       "      <th>4</th>\n",
       "      <td>245133531816851882</td>\n",
       "      <td>9</td>\n",
       "      <td>51</td>\n",
       "      <td>753</td>\n",
       "      <td>-1.0</td>\n",
       "      <td>-1.0</td>\n",
       "      <td>-1.0</td>\n",
       "      <td>-1.0</td>\n",
       "      <td>M</td>\n",
       "      <td>30</td>\n",
       "      <td>M29-31</td>\n",
       "      <td>小米</td>\n",
       "      <td>MI 3</td>\n",
       "    </tr>\n",
       "  </tbody>\n",
       "</table>\n",
       "</div>"
      ],
      "text/plain": [
       "             device_id  group_x  phone_brand_x  device_model_x  counts  \\\n",
       "0 -8076087639492063270       10             51             749    -1.0   \n",
       "1 -2897161552818060146       10             51             749    -1.0   \n",
       "2 -8260683887967679142       10             51             749     1.0   \n",
       "3 -4938849341048082022        9             51            1524    -1.0   \n",
       "4   245133531816851882        9             51             753    -1.0   \n",
       "\n",
       "   installed  active  label_id gender  age group_y phone_brand_y  \\\n",
       "0       -1.0    -1.0      -1.0      M   35  M32-38            小米   \n",
       "1       -1.0    -1.0      -1.0      M   35  M32-38            小米   \n",
       "2       53.0     6.0     713.0      M   35  M32-38            小米   \n",
       "3       -1.0    -1.0      -1.0      M   30  M29-31            小米   \n",
       "4       -1.0    -1.0      -1.0      M   30  M29-31            小米   \n",
       "\n",
       "  device_model_y  \n",
       "0           MI 2  \n",
       "1           MI 2  \n",
       "2           MI 2  \n",
       "3         红米note  \n",
       "4           MI 3  "
      ]
     },
     "execution_count": 78,
     "metadata": {},
     "output_type": "execute_result"
    }
   ],
   "source": [
    "train.head()"
   ]
  },
  {
   "cell_type": "code",
   "execution_count": 79,
   "metadata": {
    "collapsed": true
   },
   "outputs": [],
   "source": [
    "english_phone_brands_mapping = {\n",
    "    \"三星\": \"samsung\",\n",
    "    \"天语\": \"Ktouch\",\n",
    "    \"海信\": \"hisense\",\n",
    "    \"联想\": \"lenovo\",\n",
    "    \"欧比\": \"obi\",\n",
    "    \"爱派尔\": \"ipair\",\n",
    "    \"努比亚\": \"nubia\",\n",
    "    \"优米\": \"youmi\",\n",
    "    \"朵唯\": \"dowe\",\n",
    "    \"黑米\": \"heymi\",\n",
    "    \"锤子\": \"hammer\",\n",
    "    \"酷比魔方\": \"koobee\",\n",
    "    \"美图\": \"meitu\",\n",
    "    \"尼比鲁\": \"nibilu\",\n",
    "    \"一加\": \"oneplus\",\n",
    "    \"优购\": \"yougo\",\n",
    "    \"诺基亚\": \"nokia\",\n",
    "    \"糖葫芦\": \"candy\",\n",
    "    \"中国移动\": \"ccmc\",\n",
    "    \"语信\": \"yuxin\",\n",
    "    \"基伍\": \"kiwu\",\n",
    "    \"青橙\": \"greeno\",\n",
    "    \"华硕\": \"asus\",\n",
    "    \"夏新\": \"panosonic\",\n",
    "    \"维图\": \"weitu\",\n",
    "    \"艾优尼\": \"aiyouni\",\n",
    "    \"摩托罗拉\": \"moto\",\n",
    "    \"乡米\": \"xiangmi\",\n",
    "    \"米奇\": \"micky\",\n",
    "    \"大可乐\": \"bigcola\",\n",
    "    \"沃普丰\": \"wpf\",\n",
    "    \"神舟\": \"hasse\",\n",
    "    \"摩乐\": \"mole\",\n",
    "    \"飞秒\": \"fs\",\n",
    "    \"米歌\": \"mige\",\n",
    "    \"富可视\": \"fks\",\n",
    "    \"德赛\": \"desci\",\n",
    "    \"梦米\": \"mengmi\",\n",
    "    \"乐视\": \"lshi\",\n",
    "    \"小杨树\": \"smallt\",\n",
    "    \"纽曼\": \"newman\",\n",
    "    \"邦华\": \"banghua\",\n",
    "    \"E派\": \"epai\",\n",
    "    \"易派\": \"epai\",\n",
    "    \"普耐尔\": \"pner\",\n",
    "    \"欧新\": \"ouxin\",\n",
    "    \"西米\": \"ximi\",\n",
    "    \"海尔\": \"haier\",\n",
    "    \"波导\": \"bodao\",\n",
    "    \"糯米\": \"nuomi\",\n",
    "    \"唯米\": \"weimi\",\n",
    "    \"酷珀\": \"kupo\",\n",
    "    \"谷歌\": \"google\",\n",
    "    \"昂达\": \"ada\",\n",
    "    \"聆韵\": \"lingyun\",\n",
    "    \"小米\": \"Xiaomi\",\n",
    "    \"华为\": \"Huawei\",\n",
    "    \"魅族\": \"Meizu\",\n",
    "    \"中兴\": \"ZTE\",\n",
    "    \"酷派\": \"Coolpad\",\n",
    "    \"金立\": \"Gionee\",\n",
    "    \"SUGAR\": \"SUGAR\",\n",
    "    \"OPPO\": \"OPPO\",\n",
    "    \"vivo\": \"vivo\",\n",
    "    \"HTC\": \"HTC\",\n",
    "    \"LG\": \"LG\",\n",
    "    \"ZUK\": \"ZUK\",\n",
    "    \"TCL\": \"TCL\",\n",
    "    \"LOGO\": \"LOGO\",\n",
    "    \"SUGAR\": \"SUGAR\",\n",
    "    \"Lovme\": \"Lovme\",\n",
    "    \"PPTV\": \"PPTV\",\n",
    "    \"ZOYE\": \"ZOYE\",\n",
    "    \"MIL\": \"MIL\",\n",
    "    \"索尼\" : \"Sony\",\n",
    "    \"欧博信\" : \"Opssom\",\n",
    "    \"奇酷\" : \"Qiku\",\n",
    "    \"酷比\" : \"CUBE\",\n",
    "    \"康佳\" : \"Konka\",\n",
    "    \"亿通\" : \"Yitong\",\n",
    "    \"金星数码\" : \"JXD\",\n",
    "    \"至尊宝\" : \"Monkey King\",\n",
    "    \"百立丰\" : \"Hundred Li Feng\",\n",
    "    \"贝尔丰\" : \"Bifer\",\n",
    "    \"百加\" : \"Bacardi\",\n",
    "    \"诺亚信\" : \"Noain\",\n",
    "    \"广信\" : \"Kingsun\",\n",
    "    \"世纪天元\" : \"Ctyon\",\n",
    "    \"青葱\" : \"Cong\",\n",
    "    \"果米\" : \"Taobao\",\n",
    "    \"斐讯\" : \"Phicomm\",\n",
    "    \"长虹\" : \"Changhong\",\n",
    "    \"欧奇\" : \"Oukimobile\",\n",
    "    \"先锋\" : \"XFPLAY\",\n",
    "    \"台电\" : \"Teclast\",\n",
    "    \"大Q\" : \"Daq\",\n",
    "    \"蓝魔\" : \"Ramos\",\n",
    "    \"奥克斯\" : \"AUX\"\n",
    "}"
   ]
  },
  {
   "cell_type": "code",
   "execution_count": 80,
   "metadata": {
    "collapsed": true
   },
   "outputs": [],
   "source": [
    "# Now, we map the english translation into the current phone_brand\n",
    "train.phone_brand_y = train.phone_brand_y.map(pd.Series(english_phone_brands_mapping), na_action='ignore')"
   ]
  },
  {
   "cell_type": "code",
   "execution_count": 81,
   "metadata": {
    "collapsed": false
   },
   "outputs": [
    {
     "data": {
      "text/html": [
       "<div>\n",
       "<table border=\"1\" class=\"dataframe\">\n",
       "  <thead>\n",
       "    <tr style=\"text-align: right;\">\n",
       "      <th></th>\n",
       "      <th>device_id</th>\n",
       "      <th>group_x</th>\n",
       "      <th>phone_brand_x</th>\n",
       "      <th>device_model_x</th>\n",
       "      <th>counts</th>\n",
       "      <th>installed</th>\n",
       "      <th>active</th>\n",
       "      <th>label_id</th>\n",
       "      <th>gender</th>\n",
       "      <th>age</th>\n",
       "      <th>group_y</th>\n",
       "      <th>phone_brand_y</th>\n",
       "      <th>device_model_y</th>\n",
       "    </tr>\n",
       "  </thead>\n",
       "  <tbody>\n",
       "    <tr>\n",
       "      <th>0</th>\n",
       "      <td>-8076087639492063270</td>\n",
       "      <td>10</td>\n",
       "      <td>51</td>\n",
       "      <td>749</td>\n",
       "      <td>-1.0</td>\n",
       "      <td>-1.0</td>\n",
       "      <td>-1.0</td>\n",
       "      <td>-1.0</td>\n",
       "      <td>M</td>\n",
       "      <td>35</td>\n",
       "      <td>M32-38</td>\n",
       "      <td>Xiaomi</td>\n",
       "      <td>MI 2</td>\n",
       "    </tr>\n",
       "    <tr>\n",
       "      <th>1</th>\n",
       "      <td>-2897161552818060146</td>\n",
       "      <td>10</td>\n",
       "      <td>51</td>\n",
       "      <td>749</td>\n",
       "      <td>-1.0</td>\n",
       "      <td>-1.0</td>\n",
       "      <td>-1.0</td>\n",
       "      <td>-1.0</td>\n",
       "      <td>M</td>\n",
       "      <td>35</td>\n",
       "      <td>M32-38</td>\n",
       "      <td>Xiaomi</td>\n",
       "      <td>MI 2</td>\n",
       "    </tr>\n",
       "    <tr>\n",
       "      <th>2</th>\n",
       "      <td>-8260683887967679142</td>\n",
       "      <td>10</td>\n",
       "      <td>51</td>\n",
       "      <td>749</td>\n",
       "      <td>1.0</td>\n",
       "      <td>53.0</td>\n",
       "      <td>6.0</td>\n",
       "      <td>713.0</td>\n",
       "      <td>M</td>\n",
       "      <td>35</td>\n",
       "      <td>M32-38</td>\n",
       "      <td>Xiaomi</td>\n",
       "      <td>MI 2</td>\n",
       "    </tr>\n",
       "    <tr>\n",
       "      <th>3</th>\n",
       "      <td>-4938849341048082022</td>\n",
       "      <td>9</td>\n",
       "      <td>51</td>\n",
       "      <td>1524</td>\n",
       "      <td>-1.0</td>\n",
       "      <td>-1.0</td>\n",
       "      <td>-1.0</td>\n",
       "      <td>-1.0</td>\n",
       "      <td>M</td>\n",
       "      <td>30</td>\n",
       "      <td>M29-31</td>\n",
       "      <td>Xiaomi</td>\n",
       "      <td>红米note</td>\n",
       "    </tr>\n",
       "    <tr>\n",
       "      <th>4</th>\n",
       "      <td>245133531816851882</td>\n",
       "      <td>9</td>\n",
       "      <td>51</td>\n",
       "      <td>753</td>\n",
       "      <td>-1.0</td>\n",
       "      <td>-1.0</td>\n",
       "      <td>-1.0</td>\n",
       "      <td>-1.0</td>\n",
       "      <td>M</td>\n",
       "      <td>30</td>\n",
       "      <td>M29-31</td>\n",
       "      <td>Xiaomi</td>\n",
       "      <td>MI 3</td>\n",
       "    </tr>\n",
       "  </tbody>\n",
       "</table>\n",
       "</div>"
      ],
      "text/plain": [
       "             device_id  group_x  phone_brand_x  device_model_x  counts  \\\n",
       "0 -8076087639492063270       10             51             749    -1.0   \n",
       "1 -2897161552818060146       10             51             749    -1.0   \n",
       "2 -8260683887967679142       10             51             749     1.0   \n",
       "3 -4938849341048082022        9             51            1524    -1.0   \n",
       "4   245133531816851882        9             51             753    -1.0   \n",
       "\n",
       "   installed  active  label_id gender  age group_y phone_brand_y  \\\n",
       "0       -1.0    -1.0      -1.0      M   35  M32-38        Xiaomi   \n",
       "1       -1.0    -1.0      -1.0      M   35  M32-38        Xiaomi   \n",
       "2       53.0     6.0     713.0      M   35  M32-38        Xiaomi   \n",
       "3       -1.0    -1.0      -1.0      M   30  M29-31        Xiaomi   \n",
       "4       -1.0    -1.0      -1.0      M   30  M29-31        Xiaomi   \n",
       "\n",
       "  device_model_y  \n",
       "0           MI 2  \n",
       "1           MI 2  \n",
       "2           MI 2  \n",
       "3         红米note  \n",
       "4           MI 3  "
      ]
     },
     "execution_count": 81,
     "metadata": {},
     "output_type": "execute_result"
    }
   ],
   "source": [
    "train.head()"
   ]
  },
  {
   "cell_type": "code",
   "execution_count": 82,
   "metadata": {
    "collapsed": true
   },
   "outputs": [],
   "source": [
    "del brand"
   ]
  },
  {
   "cell_type": "code",
   "execution_count": 83,
   "metadata": {
    "collapsed": true
   },
   "outputs": [],
   "source": [
    "del demo"
   ]
  },
  {
   "cell_type": "markdown",
   "metadata": {},
   "source": [
    "# Age distribution by phone brand\n",
    "\n",
    "Color = gender"
   ]
  },
  {
   "cell_type": "code",
   "execution_count": 56,
   "metadata": {
    "collapsed": false
   },
   "outputs": [
    {
     "data": {
      "text/plain": [
       "<seaborn.axisgrid.FacetGrid at 0x18938b70>"
      ]
     },
     "execution_count": 56,
     "metadata": {},
     "output_type": "execute_result"
    },
    {
     "data": {
      "image/png": "[encoded data removed]",
      "text/plain": [
       "<matplotlib.figure.Figure at 0x1a05e470>"
      ]
     },
     "metadata": {},
     "output_type": "display_data"
    }
   ],
   "source": [
    "brands = train.phone_brand_y.value_counts().index[:6]\n",
    "c = train[train.phone_brand_y.isin(brands)]\n",
    "g = sns.FacetGrid(c, hue='gender', col='phone_brand_y',col_wrap=2, aspect=2, xlim=(15,60))\n",
    "g.map(sns.distplot, 'age', bins=np.arange(15,70)+0.5).add_legend()"
   ]
  },
  {
   "cell_type": "code",
   "execution_count": 57,
   "metadata": {
    "collapsed": true
   },
   "outputs": [],
   "source": [
    "g.savefig('Age Dist.png')"
   ]
  },
  {
   "cell_type": "code",
   "execution_count": 88,
   "metadata": {
    "collapsed": true
   },
   "outputs": [],
   "source": [
    "# Reading events to incroporate latitude and longitude for map plotting to see if pattern emerge\n",
    "events = pd.read_csv('events.csv')"
   ]
  },
  {
   "cell_type": "code",
   "execution_count": 89,
   "metadata": {
    "collapsed": false
   },
   "outputs": [
    {
     "data": {
      "text/html": [
       "<div>\n",
       "<table border=\"1\" class=\"dataframe\">\n",
       "  <thead>\n",
       "    <tr style=\"text-align: right;\">\n",
       "      <th></th>\n",
       "      <th>event_id</th>\n",
       "      <th>device_id</th>\n",
       "      <th>timestamp</th>\n",
       "      <th>longitude</th>\n",
       "      <th>latitude</th>\n",
       "    </tr>\n",
       "  </thead>\n",
       "  <tbody>\n",
       "    <tr>\n",
       "      <th>0</th>\n",
       "      <td>1</td>\n",
       "      <td>29182687948017175</td>\n",
       "      <td>2016-05-01 00:55:25</td>\n",
       "      <td>121.38</td>\n",
       "      <td>31.24</td>\n",
       "    </tr>\n",
       "    <tr>\n",
       "      <th>1</th>\n",
       "      <td>2</td>\n",
       "      <td>-6401643145415154744</td>\n",
       "      <td>2016-05-01 00:54:12</td>\n",
       "      <td>103.65</td>\n",
       "      <td>30.97</td>\n",
       "    </tr>\n",
       "    <tr>\n",
       "      <th>2</th>\n",
       "      <td>3</td>\n",
       "      <td>-4833982096941402721</td>\n",
       "      <td>2016-05-01 00:08:05</td>\n",
       "      <td>106.60</td>\n",
       "      <td>29.70</td>\n",
       "    </tr>\n",
       "    <tr>\n",
       "      <th>3</th>\n",
       "      <td>4</td>\n",
       "      <td>-6815121365017318426</td>\n",
       "      <td>2016-05-01 00:06:40</td>\n",
       "      <td>104.27</td>\n",
       "      <td>23.28</td>\n",
       "    </tr>\n",
       "    <tr>\n",
       "      <th>4</th>\n",
       "      <td>5</td>\n",
       "      <td>-5373797595892518570</td>\n",
       "      <td>2016-05-01 00:07:18</td>\n",
       "      <td>115.88</td>\n",
       "      <td>28.66</td>\n",
       "    </tr>\n",
       "  </tbody>\n",
       "</table>\n",
       "</div>"
      ],
      "text/plain": [
       "   event_id            device_id            timestamp  longitude  latitude\n",
       "0         1    29182687948017175  2016-05-01 00:55:25     121.38     31.24\n",
       "1         2 -6401643145415154744  2016-05-01 00:54:12     103.65     30.97\n",
       "2         3 -4833982096941402721  2016-05-01 00:08:05     106.60     29.70\n",
       "3         4 -6815121365017318426  2016-05-01 00:06:40     104.27     23.28\n",
       "4         5 -5373797595892518570  2016-05-01 00:07:18     115.88     28.66"
      ]
     },
     "execution_count": 89,
     "metadata": {},
     "output_type": "execute_result"
    }
   ],
   "source": [
    "events.head()"
   ]
  },
  {
   "cell_type": "code",
   "execution_count": 91,
   "metadata": {
    "collapsed": false
   },
   "outputs": [
    {
     "data": {
      "image/png": "[encoded data removed]",
      "text/plain": [
       "<matplotlib.figure.Figure at 0x1b83ae10>"
      ]
     },
     "metadata": {},
     "output_type": "display_data"
    }
   ],
   "source": [
    "from mpl_toolkits.basemap import Basemap\n",
    "# Sample it down to only the China region\n",
    "lon_min, lon_max = 75, 135\n",
    "lat_min, lat_max = 15, 55\n",
    "\n",
    "idx_china = (events[\"longitude\"]>lon_min) &\\\n",
    "            (events[\"longitude\"]<lon_max) &\\\n",
    "            (events[\"latitude\"]>lat_min) &\\\n",
    "            (events[\"latitude\"]<lat_max)\n",
    "\n",
    "df_events_china = events[idx_china]\n",
    "\n",
    "# Mercator of China\n",
    "plt.figure(2, figsize=(12,6))\n",
    "\n",
    "m2 = Basemap(projection='merc',\n",
    "             llcrnrlat=lat_min,\n",
    "             urcrnrlat=lat_max,\n",
    "             llcrnrlon=lon_min,\n",
    "             urcrnrlon=lon_max,\n",
    "             lat_ts=35,\n",
    "             resolution='i')\n",
    "\n",
    "m2.fillcontinents(color='#191919',lake_color='#000000') # dark grey land, black lakes\n",
    "m2.drawmapboundary(fill_color='#000000')                # black background\n",
    "m2.drawcountries(linewidth=0.1, color=\"w\")              # thin white line for country borders\n",
    "\n",
    "# Plot the data\n",
    "mxy = m2(df_events_china[\"longitude\"].tolist(), df_events_china[\"latitude\"].tolist())\n",
    "m2.scatter(mxy[0], mxy[1], s=5, c=\"#1292db\", lw=0, alpha=0.05, zorder=5)\n",
    "\n",
    "plt.title(\"China view of events\")\n",
    "plt.show()"
   ]
  },
  {
   "cell_type": "code",
   "execution_count": 95,
   "metadata": {
    "collapsed": false
   },
   "outputs": [
    {
     "data": {
      "text/plain": [
       "<matplotlib.figure.Figure at 0x4bd0aac8>"
      ]
     },
     "metadata": {},
     "output_type": "display_data"
    }
   ],
   "source": [
    "# How to save above image to png?\n",
    "plt.savefig('China_events.png')"
   ]
  },
  {
   "cell_type": "code",
   "execution_count": 96,
   "metadata": {
    "collapsed": true
   },
   "outputs": [],
   "source": [
    "del events"
   ]
  },
  {
   "cell_type": "code",
   "execution_count": 97,
   "metadata": {
    "collapsed": false
   },
   "outputs": [
    {
     "data": {
      "text/html": [
       "<div>\n",
       "<table border=\"1\" class=\"dataframe\">\n",
       "  <thead>\n",
       "    <tr style=\"text-align: right;\">\n",
       "      <th></th>\n",
       "      <th>device_id</th>\n",
       "      <th>group_x</th>\n",
       "      <th>phone_brand_x</th>\n",
       "      <th>device_model_x</th>\n",
       "      <th>counts</th>\n",
       "      <th>installed</th>\n",
       "      <th>active</th>\n",
       "      <th>label_id</th>\n",
       "      <th>gender</th>\n",
       "      <th>age</th>\n",
       "      <th>group_y</th>\n",
       "      <th>phone_brand_y</th>\n",
       "      <th>device_model_y</th>\n",
       "    </tr>\n",
       "  </thead>\n",
       "  <tbody>\n",
       "    <tr>\n",
       "      <th>0</th>\n",
       "      <td>-8076087639492063270</td>\n",
       "      <td>10</td>\n",
       "      <td>51</td>\n",
       "      <td>749</td>\n",
       "      <td>-1.0</td>\n",
       "      <td>-1.0</td>\n",
       "      <td>-1.0</td>\n",
       "      <td>-1.0</td>\n",
       "      <td>M</td>\n",
       "      <td>35</td>\n",
       "      <td>M32-38</td>\n",
       "      <td>Xiaomi</td>\n",
       "      <td>MI 2</td>\n",
       "    </tr>\n",
       "    <tr>\n",
       "      <th>1</th>\n",
       "      <td>-2897161552818060146</td>\n",
       "      <td>10</td>\n",
       "      <td>51</td>\n",
       "      <td>749</td>\n",
       "      <td>-1.0</td>\n",
       "      <td>-1.0</td>\n",
       "      <td>-1.0</td>\n",
       "      <td>-1.0</td>\n",
       "      <td>M</td>\n",
       "      <td>35</td>\n",
       "      <td>M32-38</td>\n",
       "      <td>Xiaomi</td>\n",
       "      <td>MI 2</td>\n",
       "    </tr>\n",
       "    <tr>\n",
       "      <th>2</th>\n",
       "      <td>-8260683887967679142</td>\n",
       "      <td>10</td>\n",
       "      <td>51</td>\n",
       "      <td>749</td>\n",
       "      <td>1.0</td>\n",
       "      <td>53.0</td>\n",
       "      <td>6.0</td>\n",
       "      <td>713.0</td>\n",
       "      <td>M</td>\n",
       "      <td>35</td>\n",
       "      <td>M32-38</td>\n",
       "      <td>Xiaomi</td>\n",
       "      <td>MI 2</td>\n",
       "    </tr>\n",
       "    <tr>\n",
       "      <th>3</th>\n",
       "      <td>-4938849341048082022</td>\n",
       "      <td>9</td>\n",
       "      <td>51</td>\n",
       "      <td>1524</td>\n",
       "      <td>-1.0</td>\n",
       "      <td>-1.0</td>\n",
       "      <td>-1.0</td>\n",
       "      <td>-1.0</td>\n",
       "      <td>M</td>\n",
       "      <td>30</td>\n",
       "      <td>M29-31</td>\n",
       "      <td>Xiaomi</td>\n",
       "      <td>红米note</td>\n",
       "    </tr>\n",
       "    <tr>\n",
       "      <th>4</th>\n",
       "      <td>245133531816851882</td>\n",
       "      <td>9</td>\n",
       "      <td>51</td>\n",
       "      <td>753</td>\n",
       "      <td>-1.0</td>\n",
       "      <td>-1.0</td>\n",
       "      <td>-1.0</td>\n",
       "      <td>-1.0</td>\n",
       "      <td>M</td>\n",
       "      <td>30</td>\n",
       "      <td>M29-31</td>\n",
       "      <td>Xiaomi</td>\n",
       "      <td>MI 3</td>\n",
       "    </tr>\n",
       "  </tbody>\n",
       "</table>\n",
       "</div>"
      ],
      "text/plain": [
       "             device_id  group_x  phone_brand_x  device_model_x  counts  \\\n",
       "0 -8076087639492063270       10             51             749    -1.0   \n",
       "1 -2897161552818060146       10             51             749    -1.0   \n",
       "2 -8260683887967679142       10             51             749     1.0   \n",
       "3 -4938849341048082022        9             51            1524    -1.0   \n",
       "4   245133531816851882        9             51             753    -1.0   \n",
       "\n",
       "   installed  active  label_id gender  age group_y phone_brand_y  \\\n",
       "0       -1.0    -1.0      -1.0      M   35  M32-38        Xiaomi   \n",
       "1       -1.0    -1.0      -1.0      M   35  M32-38        Xiaomi   \n",
       "2       53.0     6.0     713.0      M   35  M32-38        Xiaomi   \n",
       "3       -1.0    -1.0      -1.0      M   30  M29-31        Xiaomi   \n",
       "4       -1.0    -1.0      -1.0      M   30  M29-31        Xiaomi   \n",
       "\n",
       "  device_model_y  \n",
       "0           MI 2  \n",
       "1           MI 2  \n",
       "2           MI 2  \n",
       "3         红米note  \n",
       "4           MI 3  "
      ]
     },
     "execution_count": 97,
     "metadata": {},
     "output_type": "execute_result"
    }
   ],
   "source": [
    "train.head()"
   ]
  },
  {
   "cell_type": "code",
   "execution_count": 98,
   "metadata": {
    "collapsed": true
   },
   "outputs": [],
   "source": [
    "del train"
   ]
  },
  {
   "cell_type": "markdown",
   "metadata": {},
   "source": [
    "# Cleaning Data"
   ]
  },
  {
   "cell_type": "markdown",
   "metadata": {},
   "source": [
    "# Lets start with application events file"
   ]
  },
  {
   "cell_type": "code",
   "execution_count": 1,
   "metadata": {
    "collapsed": true
   },
   "outputs": [],
   "source": [
    "import numpy as np\n",
    "import pandas as pd\n",
    "import matplotlib.pyplot as plt"
   ]
  },
  {
   "cell_type": "code",
   "execution_count": 2,
   "metadata": {
    "collapsed": false
   },
   "outputs": [],
   "source": [
    "# Read application events data\n",
    "ape = pd.read_csv(\"app_events.csv\")"
   ]
  },
  {
   "cell_type": "code",
   "execution_count": 3,
   "metadata": {
    "collapsed": true
   },
   "outputs": [],
   "source": [
    "ape['installed'] = ape.groupby(['event_id'])['is_installed'].transform('sum')"
   ]
  },
  {
   "cell_type": "code",
   "execution_count": 4,
   "metadata": {
    "collapsed": false
   },
   "outputs": [
    {
     "data": {
      "text/html": [
       "<div>\n",
       "<table border=\"1\" class=\"dataframe\">\n",
       "  <thead>\n",
       "    <tr style=\"text-align: right;\">\n",
       "      <th></th>\n",
       "      <th>event_id</th>\n",
       "      <th>app_id</th>\n",
       "      <th>is_installed</th>\n",
       "      <th>is_active</th>\n",
       "      <th>installed</th>\n",
       "    </tr>\n",
       "  </thead>\n",
       "  <tbody>\n",
       "    <tr>\n",
       "      <th>0</th>\n",
       "      <td>2</td>\n",
       "      <td>5927333115845830913</td>\n",
       "      <td>1</td>\n",
       "      <td>1</td>\n",
       "      <td>19</td>\n",
       "    </tr>\n",
       "    <tr>\n",
       "      <th>1</th>\n",
       "      <td>2</td>\n",
       "      <td>-5720078949152207372</td>\n",
       "      <td>1</td>\n",
       "      <td>0</td>\n",
       "      <td>19</td>\n",
       "    </tr>\n",
       "    <tr>\n",
       "      <th>2</th>\n",
       "      <td>2</td>\n",
       "      <td>-1633887856876571208</td>\n",
       "      <td>1</td>\n",
       "      <td>0</td>\n",
       "      <td>19</td>\n",
       "    </tr>\n",
       "    <tr>\n",
       "      <th>3</th>\n",
       "      <td>2</td>\n",
       "      <td>-653184325010919369</td>\n",
       "      <td>1</td>\n",
       "      <td>1</td>\n",
       "      <td>19</td>\n",
       "    </tr>\n",
       "    <tr>\n",
       "      <th>4</th>\n",
       "      <td>2</td>\n",
       "      <td>8693964245073640147</td>\n",
       "      <td>1</td>\n",
       "      <td>1</td>\n",
       "      <td>19</td>\n",
       "    </tr>\n",
       "  </tbody>\n",
       "</table>\n",
       "</div>"
      ],
      "text/plain": [
       "   event_id               app_id  is_installed  is_active  installed\n",
       "0         2  5927333115845830913             1          1         19\n",
       "1         2 -5720078949152207372             1          0         19\n",
       "2         2 -1633887856876571208             1          0         19\n",
       "3         2  -653184325010919369             1          1         19\n",
       "4         2  8693964245073640147             1          1         19"
      ]
     },
     "execution_count": 4,
     "metadata": {},
     "output_type": "execute_result"
    }
   ],
   "source": [
    "ape.head()"
   ]
  },
  {
   "cell_type": "code",
   "execution_count": 5,
   "metadata": {
    "collapsed": true
   },
   "outputs": [],
   "source": [
    "ape['active'] = ape.groupby(['event_id'])['is_active'].transform('sum')"
   ]
  },
  {
   "cell_type": "code",
   "execution_count": 6,
   "metadata": {
    "collapsed": false
   },
   "outputs": [
    {
     "data": {
      "text/html": [
       "<div>\n",
       "<table border=\"1\" class=\"dataframe\">\n",
       "  <thead>\n",
       "    <tr style=\"text-align: right;\">\n",
       "      <th></th>\n",
       "      <th>event_id</th>\n",
       "      <th>app_id</th>\n",
       "      <th>is_installed</th>\n",
       "      <th>is_active</th>\n",
       "      <th>installed</th>\n",
       "      <th>active</th>\n",
       "    </tr>\n",
       "  </thead>\n",
       "  <tbody>\n",
       "    <tr>\n",
       "      <th>0</th>\n",
       "      <td>2</td>\n",
       "      <td>5927333115845830913</td>\n",
       "      <td>1</td>\n",
       "      <td>1</td>\n",
       "      <td>19</td>\n",
       "      <td>6</td>\n",
       "    </tr>\n",
       "    <tr>\n",
       "      <th>1</th>\n",
       "      <td>2</td>\n",
       "      <td>-5720078949152207372</td>\n",
       "      <td>1</td>\n",
       "      <td>0</td>\n",
       "      <td>19</td>\n",
       "      <td>6</td>\n",
       "    </tr>\n",
       "    <tr>\n",
       "      <th>2</th>\n",
       "      <td>2</td>\n",
       "      <td>-1633887856876571208</td>\n",
       "      <td>1</td>\n",
       "      <td>0</td>\n",
       "      <td>19</td>\n",
       "      <td>6</td>\n",
       "    </tr>\n",
       "    <tr>\n",
       "      <th>3</th>\n",
       "      <td>2</td>\n",
       "      <td>-653184325010919369</td>\n",
       "      <td>1</td>\n",
       "      <td>1</td>\n",
       "      <td>19</td>\n",
       "      <td>6</td>\n",
       "    </tr>\n",
       "    <tr>\n",
       "      <th>4</th>\n",
       "      <td>2</td>\n",
       "      <td>8693964245073640147</td>\n",
       "      <td>1</td>\n",
       "      <td>1</td>\n",
       "      <td>19</td>\n",
       "      <td>6</td>\n",
       "    </tr>\n",
       "  </tbody>\n",
       "</table>\n",
       "</div>"
      ],
      "text/plain": [
       "   event_id               app_id  is_installed  is_active  installed  active\n",
       "0         2  5927333115845830913             1          1         19       6\n",
       "1         2 -5720078949152207372             1          0         19       6\n",
       "2         2 -1633887856876571208             1          0         19       6\n",
       "3         2  -653184325010919369             1          1         19       6\n",
       "4         2  8693964245073640147             1          1         19       6"
      ]
     },
     "execution_count": 6,
     "metadata": {},
     "output_type": "execute_result"
    }
   ],
   "source": [
    "ape.head()"
   ]
  },
  {
   "cell_type": "code",
   "execution_count": 7,
   "metadata": {
    "collapsed": true
   },
   "outputs": [],
   "source": [
    "ape.drop(['is_installed', 'is_active'], axis=1, inplace=True)"
   ]
  },
  {
   "cell_type": "code",
   "execution_count": 8,
   "metadata": {
    "collapsed": false
   },
   "outputs": [
    {
     "data": {
      "text/html": [
       "<div>\n",
       "<table border=\"1\" class=\"dataframe\">\n",
       "  <thead>\n",
       "    <tr style=\"text-align: right;\">\n",
       "      <th></th>\n",
       "      <th>event_id</th>\n",
       "      <th>app_id</th>\n",
       "      <th>installed</th>\n",
       "      <th>active</th>\n",
       "    </tr>\n",
       "  </thead>\n",
       "  <tbody>\n",
       "    <tr>\n",
       "      <th>0</th>\n",
       "      <td>2</td>\n",
       "      <td>5927333115845830913</td>\n",
       "      <td>19</td>\n",
       "      <td>6</td>\n",
       "    </tr>\n",
       "    <tr>\n",
       "      <th>1</th>\n",
       "      <td>2</td>\n",
       "      <td>-5720078949152207372</td>\n",
       "      <td>19</td>\n",
       "      <td>6</td>\n",
       "    </tr>\n",
       "    <tr>\n",
       "      <th>2</th>\n",
       "      <td>2</td>\n",
       "      <td>-1633887856876571208</td>\n",
       "      <td>19</td>\n",
       "      <td>6</td>\n",
       "    </tr>\n",
       "    <tr>\n",
       "      <th>3</th>\n",
       "      <td>2</td>\n",
       "      <td>-653184325010919369</td>\n",
       "      <td>19</td>\n",
       "      <td>6</td>\n",
       "    </tr>\n",
       "    <tr>\n",
       "      <th>4</th>\n",
       "      <td>2</td>\n",
       "      <td>8693964245073640147</td>\n",
       "      <td>19</td>\n",
       "      <td>6</td>\n",
       "    </tr>\n",
       "  </tbody>\n",
       "</table>\n",
       "</div>"
      ],
      "text/plain": [
       "   event_id               app_id  installed  active\n",
       "0         2  5927333115845830913         19       6\n",
       "1         2 -5720078949152207372         19       6\n",
       "2         2 -1633887856876571208         19       6\n",
       "3         2  -653184325010919369         19       6\n",
       "4         2  8693964245073640147         19       6"
      ]
     },
     "execution_count": 8,
     "metadata": {},
     "output_type": "execute_result"
    }
   ],
   "source": [
    "ape.head()"
   ]
  },
  {
   "cell_type": "code",
   "execution_count": 10,
   "metadata": {
    "collapsed": false
   },
   "outputs": [],
   "source": [
    "# Reading app labels\n",
    "apl = pd.read_csv('app_labels.csv')\n",
    "lct = pd.read_csv('label_categories.csv')"
   ]
  },
  {
   "cell_type": "code",
   "execution_count": 11,
   "metadata": {
    "collapsed": true
   },
   "outputs": [],
   "source": [
    "act = pd.merge(apl, lct, how='left', on='label_id')"
   ]
  },
  {
   "cell_type": "code",
   "execution_count": 12,
   "metadata": {
    "collapsed": false
   },
   "outputs": [
    {
     "data": {
      "text/html": [
       "<div>\n",
       "<table border=\"1\" class=\"dataframe\">\n",
       "  <thead>\n",
       "    <tr style=\"text-align: right;\">\n",
       "      <th></th>\n",
       "      <th>app_id</th>\n",
       "      <th>label_id</th>\n",
       "      <th>category</th>\n",
       "    </tr>\n",
       "  </thead>\n",
       "  <tbody>\n",
       "    <tr>\n",
       "      <th>0</th>\n",
       "      <td>7324884708820027918</td>\n",
       "      <td>251</td>\n",
       "      <td>Finance</td>\n",
       "    </tr>\n",
       "    <tr>\n",
       "      <th>1</th>\n",
       "      <td>-4494216993218550286</td>\n",
       "      <td>251</td>\n",
       "      <td>Finance</td>\n",
       "    </tr>\n",
       "    <tr>\n",
       "      <th>2</th>\n",
       "      <td>6058196446775239644</td>\n",
       "      <td>406</td>\n",
       "      <td>unknown</td>\n",
       "    </tr>\n",
       "    <tr>\n",
       "      <th>3</th>\n",
       "      <td>6058196446775239644</td>\n",
       "      <td>407</td>\n",
       "      <td>DS_P2P net loan</td>\n",
       "    </tr>\n",
       "    <tr>\n",
       "      <th>4</th>\n",
       "      <td>8694625920731541625</td>\n",
       "      <td>406</td>\n",
       "      <td>unknown</td>\n",
       "    </tr>\n",
       "  </tbody>\n",
       "</table>\n",
       "</div>"
      ],
      "text/plain": [
       "                app_id  label_id         category\n",
       "0  7324884708820027918       251          Finance\n",
       "1 -4494216993218550286       251          Finance\n",
       "2  6058196446775239644       406          unknown\n",
       "3  6058196446775239644       407  DS_P2P net loan\n",
       "4  8694625920731541625       406          unknown"
      ]
     },
     "execution_count": 12,
     "metadata": {},
     "output_type": "execute_result"
    }
   ],
   "source": [
    "act.head()"
   ]
  },
  {
   "cell_type": "code",
   "execution_count": 13,
   "metadata": {
    "collapsed": true
   },
   "outputs": [],
   "source": [
    "ape.drop_duplicates('event_id', keep='first', inplace=True)"
   ]
  },
  {
   "cell_type": "code",
   "execution_count": 14,
   "metadata": {
    "collapsed": true
   },
   "outputs": [],
   "source": [
    "ape = pd.merge(ape, act, how='left', on='app_id')"
   ]
  },
  {
   "cell_type": "code",
   "execution_count": 15,
   "metadata": {
    "collapsed": false
   },
   "outputs": [
    {
     "data": {
      "text/html": [
       "<div>\n",
       "<table border=\"1\" class=\"dataframe\">\n",
       "  <thead>\n",
       "    <tr style=\"text-align: right;\">\n",
       "      <th></th>\n",
       "      <th>event_id</th>\n",
       "      <th>app_id</th>\n",
       "      <th>installed</th>\n",
       "      <th>active</th>\n",
       "      <th>label_id</th>\n",
       "      <th>category</th>\n",
       "    </tr>\n",
       "  </thead>\n",
       "  <tbody>\n",
       "    <tr>\n",
       "      <th>0</th>\n",
       "      <td>2</td>\n",
       "      <td>5927333115845830913</td>\n",
       "      <td>19</td>\n",
       "      <td>6</td>\n",
       "      <td>549</td>\n",
       "      <td>Property Industry 1.0</td>\n",
       "    </tr>\n",
       "    <tr>\n",
       "      <th>1</th>\n",
       "      <td>2</td>\n",
       "      <td>5927333115845830913</td>\n",
       "      <td>19</td>\n",
       "      <td>6</td>\n",
       "      <td>710</td>\n",
       "      <td>Relatives 1</td>\n",
       "    </tr>\n",
       "    <tr>\n",
       "      <th>2</th>\n",
       "      <td>2</td>\n",
       "      <td>5927333115845830913</td>\n",
       "      <td>19</td>\n",
       "      <td>6</td>\n",
       "      <td>704</td>\n",
       "      <td>Property Industry 2.0</td>\n",
       "    </tr>\n",
       "    <tr>\n",
       "      <th>3</th>\n",
       "      <td>2</td>\n",
       "      <td>5927333115845830913</td>\n",
       "      <td>19</td>\n",
       "      <td>6</td>\n",
       "      <td>548</td>\n",
       "      <td>Industry tag</td>\n",
       "    </tr>\n",
       "    <tr>\n",
       "      <th>4</th>\n",
       "      <td>2</td>\n",
       "      <td>5927333115845830913</td>\n",
       "      <td>19</td>\n",
       "      <td>6</td>\n",
       "      <td>172</td>\n",
       "      <td>IM</td>\n",
       "    </tr>\n",
       "  </tbody>\n",
       "</table>\n",
       "</div>"
      ],
      "text/plain": [
       "   event_id               app_id  installed  active  label_id  \\\n",
       "0         2  5927333115845830913         19       6       549   \n",
       "1         2  5927333115845830913         19       6       710   \n",
       "2         2  5927333115845830913         19       6       704   \n",
       "3         2  5927333115845830913         19       6       548   \n",
       "4         2  5927333115845830913         19       6       172   \n",
       "\n",
       "                category  \n",
       "0  Property Industry 1.0  \n",
       "1            Relatives 1  \n",
       "2  Property Industry 2.0  \n",
       "3           Industry tag  \n",
       "4                     IM  "
      ]
     },
     "execution_count": 15,
     "metadata": {},
     "output_type": "execute_result"
    }
   ],
   "source": [
    "ape.head()"
   ]
  },
  {
   "cell_type": "code",
   "execution_count": 16,
   "metadata": {
    "collapsed": true
   },
   "outputs": [],
   "source": [
    "ape.drop(['app_id'], axis=1, inplace=True)"
   ]
  },
  {
   "cell_type": "code",
   "execution_count": 17,
   "metadata": {
    "collapsed": false
   },
   "outputs": [
    {
     "data": {
      "text/html": [
       "<div>\n",
       "<table border=\"1\" class=\"dataframe\">\n",
       "  <thead>\n",
       "    <tr style=\"text-align: right;\">\n",
       "      <th></th>\n",
       "      <th>event_id</th>\n",
       "      <th>installed</th>\n",
       "      <th>active</th>\n",
       "      <th>label_id</th>\n",
       "      <th>category</th>\n",
       "    </tr>\n",
       "  </thead>\n",
       "  <tbody>\n",
       "    <tr>\n",
       "      <th>0</th>\n",
       "      <td>2</td>\n",
       "      <td>19</td>\n",
       "      <td>6</td>\n",
       "      <td>549</td>\n",
       "      <td>Property Industry 1.0</td>\n",
       "    </tr>\n",
       "    <tr>\n",
       "      <th>1</th>\n",
       "      <td>2</td>\n",
       "      <td>19</td>\n",
       "      <td>6</td>\n",
       "      <td>710</td>\n",
       "      <td>Relatives 1</td>\n",
       "    </tr>\n",
       "    <tr>\n",
       "      <th>2</th>\n",
       "      <td>2</td>\n",
       "      <td>19</td>\n",
       "      <td>6</td>\n",
       "      <td>704</td>\n",
       "      <td>Property Industry 2.0</td>\n",
       "    </tr>\n",
       "    <tr>\n",
       "      <th>3</th>\n",
       "      <td>2</td>\n",
       "      <td>19</td>\n",
       "      <td>6</td>\n",
       "      <td>548</td>\n",
       "      <td>Industry tag</td>\n",
       "    </tr>\n",
       "    <tr>\n",
       "      <th>4</th>\n",
       "      <td>2</td>\n",
       "      <td>19</td>\n",
       "      <td>6</td>\n",
       "      <td>172</td>\n",
       "      <td>IM</td>\n",
       "    </tr>\n",
       "  </tbody>\n",
       "</table>\n",
       "</div>"
      ],
      "text/plain": [
       "   event_id  installed  active  label_id               category\n",
       "0         2         19       6       549  Property Industry 1.0\n",
       "1         2         19       6       710            Relatives 1\n",
       "2         2         19       6       704  Property Industry 2.0\n",
       "3         2         19       6       548           Industry tag\n",
       "4         2         19       6       172                     IM"
      ]
     },
     "execution_count": 17,
     "metadata": {},
     "output_type": "execute_result"
    }
   ],
   "source": [
    "ape.head()"
   ]
  },
  {
   "cell_type": "markdown",
   "metadata": {},
   "source": [
    "# Reading events file here"
   ]
  },
  {
   "cell_type": "code",
   "execution_count": 18,
   "metadata": {
    "collapsed": true
   },
   "outputs": [],
   "source": [
    "events = pd.read_csv('events.csv', dtype={'device_id': np.str})"
   ]
  },
  {
   "cell_type": "code",
   "execution_count": 19,
   "metadata": {
    "collapsed": true
   },
   "outputs": [],
   "source": [
    "# Count of number of times an event is happening for a device\n",
    "events['event_counts'] = events.groupby(['device_id'])['event_id'].transform('count')"
   ]
  },
  {
   "cell_type": "code",
   "execution_count": 20,
   "metadata": {
    "collapsed": false
   },
   "outputs": [
    {
     "data": {
      "text/html": [
       "<div>\n",
       "<table border=\"1\" class=\"dataframe\">\n",
       "  <thead>\n",
       "    <tr style=\"text-align: right;\">\n",
       "      <th></th>\n",
       "      <th>event_id</th>\n",
       "      <th>device_id</th>\n",
       "      <th>timestamp</th>\n",
       "      <th>longitude</th>\n",
       "      <th>latitude</th>\n",
       "      <th>event_counts</th>\n",
       "    </tr>\n",
       "  </thead>\n",
       "  <tbody>\n",
       "    <tr>\n",
       "      <th>0</th>\n",
       "      <td>1</td>\n",
       "      <td>29182687948017175</td>\n",
       "      <td>2016-05-01 00:55:25</td>\n",
       "      <td>121.38</td>\n",
       "      <td>31.24</td>\n",
       "      <td>256</td>\n",
       "    </tr>\n",
       "    <tr>\n",
       "      <th>1</th>\n",
       "      <td>2</td>\n",
       "      <td>-6401643145415154744</td>\n",
       "      <td>2016-05-01 00:54:12</td>\n",
       "      <td>103.65</td>\n",
       "      <td>30.97</td>\n",
       "      <td>73</td>\n",
       "    </tr>\n",
       "    <tr>\n",
       "      <th>2</th>\n",
       "      <td>3</td>\n",
       "      <td>-4833982096941402721</td>\n",
       "      <td>2016-05-01 00:08:05</td>\n",
       "      <td>106.60</td>\n",
       "      <td>29.70</td>\n",
       "      <td>248</td>\n",
       "    </tr>\n",
       "    <tr>\n",
       "      <th>3</th>\n",
       "      <td>4</td>\n",
       "      <td>-6815121365017318426</td>\n",
       "      <td>2016-05-01 00:06:40</td>\n",
       "      <td>104.27</td>\n",
       "      <td>23.28</td>\n",
       "      <td>47</td>\n",
       "    </tr>\n",
       "    <tr>\n",
       "      <th>4</th>\n",
       "      <td>5</td>\n",
       "      <td>-5373797595892518570</td>\n",
       "      <td>2016-05-01 00:07:18</td>\n",
       "      <td>115.88</td>\n",
       "      <td>28.66</td>\n",
       "      <td>525</td>\n",
       "    </tr>\n",
       "  </tbody>\n",
       "</table>\n",
       "</div>"
      ],
      "text/plain": [
       "   event_id             device_id            timestamp  longitude  latitude  \\\n",
       "0         1     29182687948017175  2016-05-01 00:55:25     121.38     31.24   \n",
       "1         2  -6401643145415154744  2016-05-01 00:54:12     103.65     30.97   \n",
       "2         3  -4833982096941402721  2016-05-01 00:08:05     106.60     29.70   \n",
       "3         4  -6815121365017318426  2016-05-01 00:06:40     104.27     23.28   \n",
       "4         5  -5373797595892518570  2016-05-01 00:07:18     115.88     28.66   \n",
       "\n",
       "   event_counts  \n",
       "0           256  \n",
       "1            73  \n",
       "2           248  \n",
       "3            47  \n",
       "4           525  "
      ]
     },
     "execution_count": 20,
     "metadata": {},
     "output_type": "execute_result"
    }
   ],
   "source": [
    "events.head()"
   ]
  },
  {
   "cell_type": "code",
   "execution_count": 21,
   "metadata": {
    "collapsed": true
   },
   "outputs": [],
   "source": [
    "# The idea here is to count the number of installed apps using the data\n",
    "# from app_events.csv above. Also to count the number of active apps.\n",
    "events = pd.merge(events, ape, how='left', on='event_id', left_index=True)"
   ]
  },
  {
   "cell_type": "code",
   "execution_count": 22,
   "metadata": {
    "collapsed": false
   },
   "outputs": [
    {
     "data": {
      "text/html": [
       "<div>\n",
       "<table border=\"1\" class=\"dataframe\">\n",
       "  <thead>\n",
       "    <tr style=\"text-align: right;\">\n",
       "      <th></th>\n",
       "      <th>event_id</th>\n",
       "      <th>device_id</th>\n",
       "      <th>timestamp</th>\n",
       "      <th>longitude</th>\n",
       "      <th>latitude</th>\n",
       "      <th>event_counts</th>\n",
       "      <th>installed</th>\n",
       "      <th>active</th>\n",
       "      <th>label_id</th>\n",
       "      <th>category</th>\n",
       "    </tr>\n",
       "  </thead>\n",
       "  <tbody>\n",
       "    <tr>\n",
       "      <th>8463466</th>\n",
       "      <td>1</td>\n",
       "      <td>29182687948017175</td>\n",
       "      <td>2016-05-01 00:55:25</td>\n",
       "      <td>121.38</td>\n",
       "      <td>31.24</td>\n",
       "      <td>256</td>\n",
       "      <td>NaN</td>\n",
       "      <td>NaN</td>\n",
       "      <td>NaN</td>\n",
       "      <td>NaN</td>\n",
       "    </tr>\n",
       "    <tr>\n",
       "      <th>0</th>\n",
       "      <td>2</td>\n",
       "      <td>-6401643145415154744</td>\n",
       "      <td>2016-05-01 00:54:12</td>\n",
       "      <td>103.65</td>\n",
       "      <td>30.97</td>\n",
       "      <td>73</td>\n",
       "      <td>19.0</td>\n",
       "      <td>6.0</td>\n",
       "      <td>549.0</td>\n",
       "      <td>Property Industry 1.0</td>\n",
       "    </tr>\n",
       "    <tr>\n",
       "      <th>1</th>\n",
       "      <td>2</td>\n",
       "      <td>-6401643145415154744</td>\n",
       "      <td>2016-05-01 00:54:12</td>\n",
       "      <td>103.65</td>\n",
       "      <td>30.97</td>\n",
       "      <td>73</td>\n",
       "      <td>19.0</td>\n",
       "      <td>6.0</td>\n",
       "      <td>710.0</td>\n",
       "      <td>Relatives 1</td>\n",
       "    </tr>\n",
       "    <tr>\n",
       "      <th>2</th>\n",
       "      <td>2</td>\n",
       "      <td>-6401643145415154744</td>\n",
       "      <td>2016-05-01 00:54:12</td>\n",
       "      <td>103.65</td>\n",
       "      <td>30.97</td>\n",
       "      <td>73</td>\n",
       "      <td>19.0</td>\n",
       "      <td>6.0</td>\n",
       "      <td>704.0</td>\n",
       "      <td>Property Industry 2.0</td>\n",
       "    </tr>\n",
       "    <tr>\n",
       "      <th>3</th>\n",
       "      <td>2</td>\n",
       "      <td>-6401643145415154744</td>\n",
       "      <td>2016-05-01 00:54:12</td>\n",
       "      <td>103.65</td>\n",
       "      <td>30.97</td>\n",
       "      <td>73</td>\n",
       "      <td>19.0</td>\n",
       "      <td>6.0</td>\n",
       "      <td>548.0</td>\n",
       "      <td>Industry tag</td>\n",
       "    </tr>\n",
       "  </tbody>\n",
       "</table>\n",
       "</div>"
      ],
      "text/plain": [
       "         event_id             device_id            timestamp  longitude  \\\n",
       "8463466         1     29182687948017175  2016-05-01 00:55:25     121.38   \n",
       "0               2  -6401643145415154744  2016-05-01 00:54:12     103.65   \n",
       "1               2  -6401643145415154744  2016-05-01 00:54:12     103.65   \n",
       "2               2  -6401643145415154744  2016-05-01 00:54:12     103.65   \n",
       "3               2  -6401643145415154744  2016-05-01 00:54:12     103.65   \n",
       "\n",
       "         latitude  event_counts  installed  active  label_id  \\\n",
       "8463466     31.24           256        NaN     NaN       NaN   \n",
       "0           30.97            73       19.0     6.0     549.0   \n",
       "1           30.97            73       19.0     6.0     710.0   \n",
       "2           30.97            73       19.0     6.0     704.0   \n",
       "3           30.97            73       19.0     6.0     548.0   \n",
       "\n",
       "                      category  \n",
       "8463466                    NaN  \n",
       "0        Property Industry 1.0  \n",
       "1                  Relatives 1  \n",
       "2        Property Industry 2.0  \n",
       "3                 Industry tag  "
      ]
     },
     "execution_count": 22,
     "metadata": {},
     "output_type": "execute_result"
    }
   ],
   "source": [
    "events.head()"
   ]
  },
  {
   "cell_type": "code",
   "execution_count": 24,
   "metadata": {
    "collapsed": false
   },
   "outputs": [],
   "source": [
    "events_small = events[['device_id', 'event_counts', 'installed', 'active', 'category']].drop_duplicates('device_id', keep='first')"
   ]
  },
  {
   "cell_type": "code",
   "execution_count": 25,
   "metadata": {
    "collapsed": false
   },
   "outputs": [
    {
     "data": {
      "text/html": [
       "<div>\n",
       "<table border=\"1\" class=\"dataframe\">\n",
       "  <thead>\n",
       "    <tr style=\"text-align: right;\">\n",
       "      <th></th>\n",
       "      <th>device_id</th>\n",
       "      <th>event_counts</th>\n",
       "      <th>installed</th>\n",
       "      <th>active</th>\n",
       "      <th>category</th>\n",
       "    </tr>\n",
       "  </thead>\n",
       "  <tbody>\n",
       "    <tr>\n",
       "      <th>8463466</th>\n",
       "      <td>29182687948017175</td>\n",
       "      <td>256</td>\n",
       "      <td>NaN</td>\n",
       "      <td>NaN</td>\n",
       "      <td>NaN</td>\n",
       "    </tr>\n",
       "    <tr>\n",
       "      <th>0</th>\n",
       "      <td>-6401643145415154744</td>\n",
       "      <td>73</td>\n",
       "      <td>19.0</td>\n",
       "      <td>6.0</td>\n",
       "      <td>Property Industry 1.0</td>\n",
       "    </tr>\n",
       "    <tr>\n",
       "      <th>8463466</th>\n",
       "      <td>-4833982096941402721</td>\n",
       "      <td>248</td>\n",
       "      <td>NaN</td>\n",
       "      <td>NaN</td>\n",
       "      <td>NaN</td>\n",
       "    </tr>\n",
       "    <tr>\n",
       "      <th>8463466</th>\n",
       "      <td>-6815121365017318426</td>\n",
       "      <td>47</td>\n",
       "      <td>NaN</td>\n",
       "      <td>NaN</td>\n",
       "      <td>NaN</td>\n",
       "    </tr>\n",
       "    <tr>\n",
       "      <th>8463466</th>\n",
       "      <td>-5373797595892518570</td>\n",
       "      <td>525</td>\n",
       "      <td>NaN</td>\n",
       "      <td>NaN</td>\n",
       "      <td>NaN</td>\n",
       "    </tr>\n",
       "  </tbody>\n",
       "</table>\n",
       "</div>"
      ],
      "text/plain": [
       "                    device_id  event_counts  installed  active  \\\n",
       "8463466     29182687948017175           256        NaN     NaN   \n",
       "0        -6401643145415154744            73       19.0     6.0   \n",
       "8463466  -4833982096941402721           248        NaN     NaN   \n",
       "8463466  -6815121365017318426            47        NaN     NaN   \n",
       "8463466  -5373797595892518570           525        NaN     NaN   \n",
       "\n",
       "                      category  \n",
       "8463466                    NaN  \n",
       "0        Property Industry 1.0  \n",
       "8463466                    NaN  \n",
       "8463466                    NaN  \n",
       "8463466                    NaN  "
      ]
     },
     "execution_count": 25,
     "metadata": {},
     "output_type": "execute_result"
    }
   ],
   "source": [
    "events_small.head()"
   ]
  },
  {
   "cell_type": "markdown",
   "metadata": {},
   "source": [
    "# Phone Brand"
   ]
  },
  {
   "cell_type": "code",
   "execution_count": 26,
   "metadata": {
    "collapsed": true
   },
   "outputs": [],
   "source": [
    "pbd = pd.read_csv(\"phone_brand_device_model.csv\", dtype={'device_id': np.str})"
   ]
  },
  {
   "cell_type": "code",
   "execution_count": 27,
   "metadata": {
    "collapsed": false
   },
   "outputs": [],
   "source": [
    "pbd.drop_duplicates('device_id', keep='first', inplace=True)"
   ]
  },
  {
   "cell_type": "code",
   "execution_count": 28,
   "metadata": {
    "collapsed": false
   },
   "outputs": [
    {
     "data": {
      "text/html": [
       "<div>\n",
       "<table border=\"1\" class=\"dataframe\">\n",
       "  <thead>\n",
       "    <tr style=\"text-align: right;\">\n",
       "      <th></th>\n",
       "      <th>device_id</th>\n",
       "      <th>phone_brand</th>\n",
       "      <th>device_model</th>\n",
       "    </tr>\n",
       "  </thead>\n",
       "  <tbody>\n",
       "    <tr>\n",
       "      <th>0</th>\n",
       "      <td>-8890648629457979026</td>\n",
       "      <td>小米</td>\n",
       "      <td>红米</td>\n",
       "    </tr>\n",
       "    <tr>\n",
       "      <th>1</th>\n",
       "      <td>1277779817574759137</td>\n",
       "      <td>小米</td>\n",
       "      <td>MI 2</td>\n",
       "    </tr>\n",
       "    <tr>\n",
       "      <th>2</th>\n",
       "      <td>5137427614288105724</td>\n",
       "      <td>三星</td>\n",
       "      <td>Galaxy S4</td>\n",
       "    </tr>\n",
       "    <tr>\n",
       "      <th>3</th>\n",
       "      <td>3669464369358936369</td>\n",
       "      <td>SUGAR</td>\n",
       "      <td>时尚手机</td>\n",
       "    </tr>\n",
       "    <tr>\n",
       "      <th>4</th>\n",
       "      <td>-5019277647504317457</td>\n",
       "      <td>三星</td>\n",
       "      <td>Galaxy Note 2</td>\n",
       "    </tr>\n",
       "  </tbody>\n",
       "</table>\n",
       "</div>"
      ],
      "text/plain": [
       "              device_id phone_brand   device_model\n",
       "0  -8890648629457979026          小米             红米\n",
       "1   1277779817574759137          小米           MI 2\n",
       "2   5137427614288105724          三星      Galaxy S4\n",
       "3   3669464369358936369       SUGAR           时尚手机\n",
       "4  -5019277647504317457          三星  Galaxy Note 2"
      ]
     },
     "execution_count": 28,
     "metadata": {},
     "output_type": "execute_result"
    }
   ],
   "source": [
    "pbd.head()"
   ]
  },
  {
   "cell_type": "code",
   "execution_count": 29,
   "metadata": {
    "collapsed": true
   },
   "outputs": [],
   "source": [
    "# Training Data\n",
    "train = pd.read_csv(\"gender_age_train.csv\", dtype={'device_id': np.str})"
   ]
  },
  {
   "cell_type": "code",
   "execution_count": 30,
   "metadata": {
    "collapsed": false
   },
   "outputs": [
    {
     "data": {
      "text/html": [
       "<div>\n",
       "<table border=\"1\" class=\"dataframe\">\n",
       "  <thead>\n",
       "    <tr style=\"text-align: right;\">\n",
       "      <th></th>\n",
       "      <th>device_id</th>\n",
       "      <th>gender</th>\n",
       "      <th>age</th>\n",
       "      <th>group</th>\n",
       "    </tr>\n",
       "  </thead>\n",
       "  <tbody>\n",
       "    <tr>\n",
       "      <th>0</th>\n",
       "      <td>-8076087639492063270</td>\n",
       "      <td>M</td>\n",
       "      <td>35</td>\n",
       "      <td>M32-38</td>\n",
       "    </tr>\n",
       "    <tr>\n",
       "      <th>1</th>\n",
       "      <td>-2897161552818060146</td>\n",
       "      <td>M</td>\n",
       "      <td>35</td>\n",
       "      <td>M32-38</td>\n",
       "    </tr>\n",
       "    <tr>\n",
       "      <th>2</th>\n",
       "      <td>-8260683887967679142</td>\n",
       "      <td>M</td>\n",
       "      <td>35</td>\n",
       "      <td>M32-38</td>\n",
       "    </tr>\n",
       "    <tr>\n",
       "      <th>3</th>\n",
       "      <td>-4938849341048082022</td>\n",
       "      <td>M</td>\n",
       "      <td>30</td>\n",
       "      <td>M29-31</td>\n",
       "    </tr>\n",
       "    <tr>\n",
       "      <th>4</th>\n",
       "      <td>245133531816851882</td>\n",
       "      <td>M</td>\n",
       "      <td>30</td>\n",
       "      <td>M29-31</td>\n",
       "    </tr>\n",
       "  </tbody>\n",
       "</table>\n",
       "</div>"
      ],
      "text/plain": [
       "              device_id gender  age   group\n",
       "0  -8076087639492063270      M   35  M32-38\n",
       "1  -2897161552818060146      M   35  M32-38\n",
       "2  -8260683887967679142      M   35  M32-38\n",
       "3  -4938849341048082022      M   30  M29-31\n",
       "4    245133531816851882      M   30  M29-31"
      ]
     },
     "execution_count": 30,
     "metadata": {},
     "output_type": "execute_result"
    }
   ],
   "source": [
    "train.head()"
   ]
  },
  {
   "cell_type": "code",
   "execution_count": 31,
   "metadata": {
    "collapsed": true
   },
   "outputs": [],
   "source": [
    "train = pd.merge(train, pbd, how='left', on='device_id', left_index=True)"
   ]
  },
  {
   "cell_type": "code",
   "execution_count": 32,
   "metadata": {
    "collapsed": false
   },
   "outputs": [
    {
     "data": {
      "text/html": [
       "<div>\n",
       "<table border=\"1\" class=\"dataframe\">\n",
       "  <thead>\n",
       "    <tr style=\"text-align: right;\">\n",
       "      <th></th>\n",
       "      <th>device_id</th>\n",
       "      <th>gender</th>\n",
       "      <th>age</th>\n",
       "      <th>group</th>\n",
       "      <th>phone_brand</th>\n",
       "      <th>device_model</th>\n",
       "    </tr>\n",
       "  </thead>\n",
       "  <tbody>\n",
       "    <tr>\n",
       "      <th>56800</th>\n",
       "      <td>-8076087639492063270</td>\n",
       "      <td>M</td>\n",
       "      <td>35</td>\n",
       "      <td>M32-38</td>\n",
       "      <td>小米</td>\n",
       "      <td>MI 2</td>\n",
       "    </tr>\n",
       "    <tr>\n",
       "      <th>41294</th>\n",
       "      <td>-2897161552818060146</td>\n",
       "      <td>M</td>\n",
       "      <td>35</td>\n",
       "      <td>M32-38</td>\n",
       "      <td>小米</td>\n",
       "      <td>MI 2</td>\n",
       "    </tr>\n",
       "    <tr>\n",
       "      <th>9993</th>\n",
       "      <td>-8260683887967679142</td>\n",
       "      <td>M</td>\n",
       "      <td>35</td>\n",
       "      <td>M32-38</td>\n",
       "      <td>小米</td>\n",
       "      <td>MI 2</td>\n",
       "    </tr>\n",
       "    <tr>\n",
       "      <th>179893</th>\n",
       "      <td>-4938849341048082022</td>\n",
       "      <td>M</td>\n",
       "      <td>30</td>\n",
       "      <td>M29-31</td>\n",
       "      <td>小米</td>\n",
       "      <td>红米note</td>\n",
       "    </tr>\n",
       "    <tr>\n",
       "      <th>102570</th>\n",
       "      <td>245133531816851882</td>\n",
       "      <td>M</td>\n",
       "      <td>30</td>\n",
       "      <td>M29-31</td>\n",
       "      <td>小米</td>\n",
       "      <td>MI 3</td>\n",
       "    </tr>\n",
       "  </tbody>\n",
       "</table>\n",
       "</div>"
      ],
      "text/plain": [
       "                   device_id gender  age   group phone_brand device_model\n",
       "56800   -8076087639492063270      M   35  M32-38          小米         MI 2\n",
       "41294   -2897161552818060146      M   35  M32-38          小米         MI 2\n",
       "9993    -8260683887967679142      M   35  M32-38          小米         MI 2\n",
       "179893  -4938849341048082022      M   30  M29-31          小米       红米note\n",
       "102570    245133531816851882      M   30  M29-31          小米         MI 3"
      ]
     },
     "execution_count": 32,
     "metadata": {},
     "output_type": "execute_result"
    }
   ],
   "source": [
    "train.head()"
   ]
  },
  {
   "cell_type": "code",
   "execution_count": 33,
   "metadata": {
    "collapsed": true
   },
   "outputs": [],
   "source": [
    "train = pd.merge(train, events_small, how='left', on='device_id', left_index=True)"
   ]
  },
  {
   "cell_type": "code",
   "execution_count": 34,
   "metadata": {
    "collapsed": false
   },
   "outputs": [
    {
     "data": {
      "text/html": [
       "<div>\n",
       "<table border=\"1\" class=\"dataframe\">\n",
       "  <thead>\n",
       "    <tr style=\"text-align: right;\">\n",
       "      <th></th>\n",
       "      <th>device_id</th>\n",
       "      <th>gender</th>\n",
       "      <th>age</th>\n",
       "      <th>group</th>\n",
       "      <th>phone_brand</th>\n",
       "      <th>device_model</th>\n",
       "      <th>event_counts</th>\n",
       "      <th>installed</th>\n",
       "      <th>active</th>\n",
       "      <th>category</th>\n",
       "    </tr>\n",
       "  </thead>\n",
       "  <tbody>\n",
       "    <tr>\n",
       "      <th>8460527</th>\n",
       "      <td>-8076087639492063270</td>\n",
       "      <td>M</td>\n",
       "      <td>35</td>\n",
       "      <td>M32-38</td>\n",
       "      <td>小米</td>\n",
       "      <td>MI 2</td>\n",
       "      <td>NaN</td>\n",
       "      <td>NaN</td>\n",
       "      <td>NaN</td>\n",
       "      <td>NaN</td>\n",
       "    </tr>\n",
       "    <tr>\n",
       "      <th>8460527</th>\n",
       "      <td>-2897161552818060146</td>\n",
       "      <td>M</td>\n",
       "      <td>35</td>\n",
       "      <td>M32-38</td>\n",
       "      <td>小米</td>\n",
       "      <td>MI 2</td>\n",
       "      <td>NaN</td>\n",
       "      <td>NaN</td>\n",
       "      <td>NaN</td>\n",
       "      <td>NaN</td>\n",
       "    </tr>\n",
       "    <tr>\n",
       "      <th>6455195</th>\n",
       "      <td>-8260683887967679142</td>\n",
       "      <td>M</td>\n",
       "      <td>35</td>\n",
       "      <td>M32-38</td>\n",
       "      <td>小米</td>\n",
       "      <td>MI 2</td>\n",
       "      <td>1.0</td>\n",
       "      <td>53.0</td>\n",
       "      <td>6.0</td>\n",
       "      <td>Services 1</td>\n",
       "    </tr>\n",
       "    <tr>\n",
       "      <th>8460527</th>\n",
       "      <td>-4938849341048082022</td>\n",
       "      <td>M</td>\n",
       "      <td>30</td>\n",
       "      <td>M29-31</td>\n",
       "      <td>小米</td>\n",
       "      <td>红米note</td>\n",
       "      <td>NaN</td>\n",
       "      <td>NaN</td>\n",
       "      <td>NaN</td>\n",
       "      <td>NaN</td>\n",
       "    </tr>\n",
       "    <tr>\n",
       "      <th>8460527</th>\n",
       "      <td>245133531816851882</td>\n",
       "      <td>M</td>\n",
       "      <td>30</td>\n",
       "      <td>M29-31</td>\n",
       "      <td>小米</td>\n",
       "      <td>MI 3</td>\n",
       "      <td>NaN</td>\n",
       "      <td>NaN</td>\n",
       "      <td>NaN</td>\n",
       "      <td>NaN</td>\n",
       "    </tr>\n",
       "  </tbody>\n",
       "</table>\n",
       "</div>"
      ],
      "text/plain": [
       "                    device_id gender  age   group phone_brand device_model  \\\n",
       "8460527  -8076087639492063270      M   35  M32-38          小米         MI 2   \n",
       "8460527  -2897161552818060146      M   35  M32-38          小米         MI 2   \n",
       "6455195  -8260683887967679142      M   35  M32-38          小米         MI 2   \n",
       "8460527  -4938849341048082022      M   30  M29-31          小米       红米note   \n",
       "8460527    245133531816851882      M   30  M29-31          小米         MI 3   \n",
       "\n",
       "         event_counts  installed  active    category  \n",
       "8460527           NaN        NaN     NaN         NaN  \n",
       "8460527           NaN        NaN     NaN         NaN  \n",
       "6455195           1.0       53.0     6.0  Services 1  \n",
       "8460527           NaN        NaN     NaN         NaN  \n",
       "8460527           NaN        NaN     NaN         NaN  "
      ]
     },
     "execution_count": 34,
     "metadata": {},
     "output_type": "execute_result"
    }
   ],
   "source": [
    "train.head()"
   ]
  },
  {
   "cell_type": "code",
   "execution_count": 35,
   "metadata": {
    "collapsed": true
   },
   "outputs": [],
   "source": [
    "train.to_csv('train-before-encode.csv')"
   ]
  },
  {
   "cell_type": "markdown",
   "metadata": {},
   "source": [
    "# Label Encode"
   ]
  },
  {
   "cell_type": "code",
   "execution_count": 36,
   "metadata": {
    "collapsed": true
   },
   "outputs": [],
   "source": [
    "from sklearn.preprocessing import LabelEncoder"
   ]
  },
  {
   "cell_type": "code",
   "execution_count": 37,
   "metadata": {
    "collapsed": true
   },
   "outputs": [],
   "source": [
    "letarget = LabelEncoder().fit(train.group.values)\n",
    "train['Groups'] = letarget.transform(train.group)"
   ]
  },
  {
   "cell_type": "code",
   "execution_count": 40,
   "metadata": {
    "collapsed": false
   },
   "outputs": [],
   "source": [
    "lebrand = LabelEncoder().fit(train.phone_brand)\n",
    "train['brand'] = lebrand.transform(train.phone_brand)\n",
    "m = train.phone_brand.str.cat(train.device_model)\n",
    "lemodel = LabelEncoder().fit(m)\n",
    "train['model'] = lemodel.transform(m)"
   ]
  },
  {
   "cell_type": "code",
   "execution_count": 43,
   "metadata": {
    "collapsed": false
   },
   "outputs": [
    {
     "name": "stderr",
     "output_type": "stream",
     "text": [
      "C:\\Users\\richter Belmont\\Anaconda2\\lib\\site-packages\\numpy\\lib\\arraysetops.py:259: FutureWarning: numpy equal will not check object identity in the future. The comparison did not return the same result as suggested by the identity (`is`)) and will change.\n",
      "  return aux[:-1][aux[1:] == aux[:-1]]\n"
     ]
    }
   ],
   "source": [
    "lecategory = LabelEncoder().fit(train.category)\n",
    "train['Category'] = lecategory.transform(train.category)"
   ]
  },
  {
   "cell_type": "code",
   "execution_count": 44,
   "metadata": {
    "collapsed": false
   },
   "outputs": [
    {
     "data": {
      "text/html": [
       "<div>\n",
       "<table border=\"1\" class=\"dataframe\">\n",
       "  <thead>\n",
       "    <tr style=\"text-align: right;\">\n",
       "      <th></th>\n",
       "      <th>device_id</th>\n",
       "      <th>gender</th>\n",
       "      <th>age</th>\n",
       "      <th>group</th>\n",
       "      <th>phone_brand</th>\n",
       "      <th>device_model</th>\n",
       "      <th>event_counts</th>\n",
       "      <th>installed</th>\n",
       "      <th>active</th>\n",
       "      <th>category</th>\n",
       "      <th>Groups</th>\n",
       "      <th>brand</th>\n",
       "      <th>model</th>\n",
       "      <th>Category</th>\n",
       "    </tr>\n",
       "  </thead>\n",
       "  <tbody>\n",
       "    <tr>\n",
       "      <th>8460527</th>\n",
       "      <td>-8076087639492063270</td>\n",
       "      <td>M</td>\n",
       "      <td>35</td>\n",
       "      <td>M32-38</td>\n",
       "      <td>小米</td>\n",
       "      <td>MI 2</td>\n",
       "      <td>NaN</td>\n",
       "      <td>NaN</td>\n",
       "      <td>NaN</td>\n",
       "      <td>NaN</td>\n",
       "      <td>10</td>\n",
       "      <td>47</td>\n",
       "      <td>761</td>\n",
       "      <td>0</td>\n",
       "    </tr>\n",
       "    <tr>\n",
       "      <th>8460527</th>\n",
       "      <td>-2897161552818060146</td>\n",
       "      <td>M</td>\n",
       "      <td>35</td>\n",
       "      <td>M32-38</td>\n",
       "      <td>小米</td>\n",
       "      <td>MI 2</td>\n",
       "      <td>NaN</td>\n",
       "      <td>NaN</td>\n",
       "      <td>NaN</td>\n",
       "      <td>NaN</td>\n",
       "      <td>10</td>\n",
       "      <td>47</td>\n",
       "      <td>761</td>\n",
       "      <td>0</td>\n",
       "    </tr>\n",
       "    <tr>\n",
       "      <th>6455195</th>\n",
       "      <td>-8260683887967679142</td>\n",
       "      <td>M</td>\n",
       "      <td>35</td>\n",
       "      <td>M32-38</td>\n",
       "      <td>小米</td>\n",
       "      <td>MI 2</td>\n",
       "      <td>1.0</td>\n",
       "      <td>53.0</td>\n",
       "      <td>6.0</td>\n",
       "      <td>Services 1</td>\n",
       "      <td>10</td>\n",
       "      <td>47</td>\n",
       "      <td>761</td>\n",
       "      <td>72</td>\n",
       "    </tr>\n",
       "    <tr>\n",
       "      <th>8460527</th>\n",
       "      <td>-4938849341048082022</td>\n",
       "      <td>M</td>\n",
       "      <td>30</td>\n",
       "      <td>M29-31</td>\n",
       "      <td>小米</td>\n",
       "      <td>红米note</td>\n",
       "      <td>NaN</td>\n",
       "      <td>NaN</td>\n",
       "      <td>NaN</td>\n",
       "      <td>NaN</td>\n",
       "      <td>9</td>\n",
       "      <td>47</td>\n",
       "      <td>783</td>\n",
       "      <td>0</td>\n",
       "    </tr>\n",
       "    <tr>\n",
       "      <th>8460527</th>\n",
       "      <td>245133531816851882</td>\n",
       "      <td>M</td>\n",
       "      <td>30</td>\n",
       "      <td>M29-31</td>\n",
       "      <td>小米</td>\n",
       "      <td>MI 3</td>\n",
       "      <td>NaN</td>\n",
       "      <td>NaN</td>\n",
       "      <td>NaN</td>\n",
       "      <td>NaN</td>\n",
       "      <td>9</td>\n",
       "      <td>47</td>\n",
       "      <td>765</td>\n",
       "      <td>0</td>\n",
       "    </tr>\n",
       "  </tbody>\n",
       "</table>\n",
       "</div>"
      ],
      "text/plain": [
       "                    device_id gender  age   group phone_brand device_model  \\\n",
       "8460527  -8076087639492063270      M   35  M32-38          小米         MI 2   \n",
       "8460527  -2897161552818060146      M   35  M32-38          小米         MI 2   \n",
       "6455195  -8260683887967679142      M   35  M32-38          小米         MI 2   \n",
       "8460527  -4938849341048082022      M   30  M29-31          小米       红米note   \n",
       "8460527    245133531816851882      M   30  M29-31          小米         MI 3   \n",
       "\n",
       "         event_counts  installed  active    category  Groups  brand  model  \\\n",
       "8460527           NaN        NaN     NaN         NaN      10     47    761   \n",
       "8460527           NaN        NaN     NaN         NaN      10     47    761   \n",
       "6455195           1.0       53.0     6.0  Services 1      10     47    761   \n",
       "8460527           NaN        NaN     NaN         NaN       9     47    783   \n",
       "8460527           NaN        NaN     NaN         NaN       9     47    765   \n",
       "\n",
       "         Category  \n",
       "8460527         0  \n",
       "8460527         0  \n",
       "6455195        72  \n",
       "8460527         0  \n",
       "8460527         0  "
      ]
     },
     "execution_count": 44,
     "metadata": {},
     "output_type": "execute_result"
    }
   ],
   "source": [
    "train.head()"
   ]
  },
  {
   "cell_type": "code",
   "execution_count": 45,
   "metadata": {
    "collapsed": true
   },
   "outputs": [],
   "source": [
    "# Impute the N/A with -1\n",
    "train.fillna(-1, inplace=True)"
   ]
  },
  {
   "cell_type": "code",
   "execution_count": 46,
   "metadata": {
    "collapsed": false
   },
   "outputs": [
    {
     "data": {
      "text/html": [
       "<div>\n",
       "<table border=\"1\" class=\"dataframe\">\n",
       "  <thead>\n",
       "    <tr style=\"text-align: right;\">\n",
       "      <th></th>\n",
       "      <th>device_id</th>\n",
       "      <th>gender</th>\n",
       "      <th>age</th>\n",
       "      <th>group</th>\n",
       "      <th>phone_brand</th>\n",
       "      <th>device_model</th>\n",
       "      <th>event_counts</th>\n",
       "      <th>installed</th>\n",
       "      <th>active</th>\n",
       "      <th>category</th>\n",
       "      <th>Groups</th>\n",
       "      <th>brand</th>\n",
       "      <th>model</th>\n",
       "      <th>Category</th>\n",
       "    </tr>\n",
       "  </thead>\n",
       "  <tbody>\n",
       "    <tr>\n",
       "      <th>8460527</th>\n",
       "      <td>-8076087639492063270</td>\n",
       "      <td>M</td>\n",
       "      <td>35</td>\n",
       "      <td>M32-38</td>\n",
       "      <td>小米</td>\n",
       "      <td>MI 2</td>\n",
       "      <td>-1.0</td>\n",
       "      <td>-1.0</td>\n",
       "      <td>-1.0</td>\n",
       "      <td>-1</td>\n",
       "      <td>10</td>\n",
       "      <td>47</td>\n",
       "      <td>761</td>\n",
       "      <td>0</td>\n",
       "    </tr>\n",
       "    <tr>\n",
       "      <th>8460527</th>\n",
       "      <td>-2897161552818060146</td>\n",
       "      <td>M</td>\n",
       "      <td>35</td>\n",
       "      <td>M32-38</td>\n",
       "      <td>小米</td>\n",
       "      <td>MI 2</td>\n",
       "      <td>-1.0</td>\n",
       "      <td>-1.0</td>\n",
       "      <td>-1.0</td>\n",
       "      <td>-1</td>\n",
       "      <td>10</td>\n",
       "      <td>47</td>\n",
       "      <td>761</td>\n",
       "      <td>0</td>\n",
       "    </tr>\n",
       "    <tr>\n",
       "      <th>6455195</th>\n",
       "      <td>-8260683887967679142</td>\n",
       "      <td>M</td>\n",
       "      <td>35</td>\n",
       "      <td>M32-38</td>\n",
       "      <td>小米</td>\n",
       "      <td>MI 2</td>\n",
       "      <td>1.0</td>\n",
       "      <td>53.0</td>\n",
       "      <td>6.0</td>\n",
       "      <td>Services 1</td>\n",
       "      <td>10</td>\n",
       "      <td>47</td>\n",
       "      <td>761</td>\n",
       "      <td>72</td>\n",
       "    </tr>\n",
       "    <tr>\n",
       "      <th>8460527</th>\n",
       "      <td>-4938849341048082022</td>\n",
       "      <td>M</td>\n",
       "      <td>30</td>\n",
       "      <td>M29-31</td>\n",
       "      <td>小米</td>\n",
       "      <td>红米note</td>\n",
       "      <td>-1.0</td>\n",
       "      <td>-1.0</td>\n",
       "      <td>-1.0</td>\n",
       "      <td>-1</td>\n",
       "      <td>9</td>\n",
       "      <td>47</td>\n",
       "      <td>783</td>\n",
       "      <td>0</td>\n",
       "    </tr>\n",
       "    <tr>\n",
       "      <th>8460527</th>\n",
       "      <td>245133531816851882</td>\n",
       "      <td>M</td>\n",
       "      <td>30</td>\n",
       "      <td>M29-31</td>\n",
       "      <td>小米</td>\n",
       "      <td>MI 3</td>\n",
       "      <td>-1.0</td>\n",
       "      <td>-1.0</td>\n",
       "      <td>-1.0</td>\n",
       "      <td>-1</td>\n",
       "      <td>9</td>\n",
       "      <td>47</td>\n",
       "      <td>765</td>\n",
       "      <td>0</td>\n",
       "    </tr>\n",
       "  </tbody>\n",
       "</table>\n",
       "</div>"
      ],
      "text/plain": [
       "                    device_id gender  age   group phone_brand device_model  \\\n",
       "8460527  -8076087639492063270      M   35  M32-38          小米         MI 2   \n",
       "8460527  -2897161552818060146      M   35  M32-38          小米         MI 2   \n",
       "6455195  -8260683887967679142      M   35  M32-38          小米         MI 2   \n",
       "8460527  -4938849341048082022      M   30  M29-31          小米       红米note   \n",
       "8460527    245133531816851882      M   30  M29-31          小米         MI 3   \n",
       "\n",
       "         event_counts  installed  active    category  Groups  brand  model  \\\n",
       "8460527          -1.0       -1.0    -1.0          -1      10     47    761   \n",
       "8460527          -1.0       -1.0    -1.0          -1      10     47    761   \n",
       "6455195           1.0       53.0     6.0  Services 1      10     47    761   \n",
       "8460527          -1.0       -1.0    -1.0          -1       9     47    783   \n",
       "8460527          -1.0       -1.0    -1.0          -1       9     47    765   \n",
       "\n",
       "         Category  \n",
       "8460527         0  \n",
       "8460527         0  \n",
       "6455195        72  \n",
       "8460527         0  \n",
       "8460527         0  "
      ]
     },
     "execution_count": 46,
     "metadata": {},
     "output_type": "execute_result"
    }
   ],
   "source": [
    "train.head()"
   ]
  },
  {
   "cell_type": "code",
   "execution_count": 47,
   "metadata": {
    "collapsed": false
   },
   "outputs": [
    {
     "data": {
      "text/plain": [
       "74645"
      ]
     },
     "execution_count": 47,
     "metadata": {},
     "output_type": "execute_result"
    }
   ],
   "source": [
    "train.shape[0]"
   ]
  },
  {
   "cell_type": "code",
   "execution_count": 48,
   "metadata": {
    "collapsed": true
   },
   "outputs": [],
   "source": [
    "train.to_csv('train_label_encoded.csv')"
   ]
  },
  {
   "cell_type": "markdown",
   "metadata": {},
   "source": [
    "# Test file"
   ]
  },
  {
   "cell_type": "code",
   "execution_count": 57,
   "metadata": {
    "collapsed": true
   },
   "outputs": [],
   "source": [
    "test = pd.read_csv(\"gender_age_test.csv\", dtype={'device_id': np.str})"
   ]
  },
  {
   "cell_type": "code",
   "execution_count": 58,
   "metadata": {
    "collapsed": true
   },
   "outputs": [],
   "source": [
    "test = pd.merge(test, pbd, how='left', on='device_id', left_index=True)"
   ]
  },
  {
   "cell_type": "code",
   "execution_count": 59,
   "metadata": {
    "collapsed": true
   },
   "outputs": [],
   "source": [
    "test = pd.merge(test, events_small, how='left', on='device_id', left_index=True)"
   ]
  },
  {
   "cell_type": "code",
   "execution_count": 61,
   "metadata": {
    "collapsed": false
   },
   "outputs": [
    {
     "data": {
      "text/html": [
       "<div>\n",
       "<table border=\"1\" class=\"dataframe\">\n",
       "  <thead>\n",
       "    <tr style=\"text-align: right;\">\n",
       "      <th></th>\n",
       "      <th>device_id</th>\n",
       "      <th>phone_brand</th>\n",
       "      <th>device_model</th>\n",
       "      <th>event_counts</th>\n",
       "      <th>installed</th>\n",
       "      <th>active</th>\n",
       "      <th>category</th>\n",
       "    </tr>\n",
       "  </thead>\n",
       "  <tbody>\n",
       "    <tr>\n",
       "      <th>1199784</th>\n",
       "      <td>1002079943728939269</td>\n",
       "      <td>小米</td>\n",
       "      <td>小米note</td>\n",
       "      <td>7.0</td>\n",
       "      <td>37.0</td>\n",
       "      <td>2.0</td>\n",
       "      <td>Property Industry 1.0</td>\n",
       "    </tr>\n",
       "    <tr>\n",
       "      <th>482597</th>\n",
       "      <td>-1547860181818787117</td>\n",
       "      <td>小米</td>\n",
       "      <td>红米2</td>\n",
       "      <td>8.0</td>\n",
       "      <td>21.0</td>\n",
       "      <td>8.0</td>\n",
       "      <td>Services 1</td>\n",
       "    </tr>\n",
       "    <tr>\n",
       "      <th>3243286</th>\n",
       "      <td>7374582448058474277</td>\n",
       "      <td>华为</td>\n",
       "      <td>Y523-L176</td>\n",
       "      <td>5.0</td>\n",
       "      <td>11.0</td>\n",
       "      <td>3.0</td>\n",
       "      <td>Irritation / Fun 1</td>\n",
       "    </tr>\n",
       "    <tr>\n",
       "      <th>844354</th>\n",
       "      <td>-6220210354783429585</td>\n",
       "      <td>华为</td>\n",
       "      <td>荣耀6</td>\n",
       "      <td>9.0</td>\n",
       "      <td>34.0</td>\n",
       "      <td>17.0</td>\n",
       "      <td>Property Industry 1.0</td>\n",
       "    </tr>\n",
       "    <tr>\n",
       "      <th>8460527</th>\n",
       "      <td>-5893464122623104785</td>\n",
       "      <td>小米</td>\n",
       "      <td>MI 2</td>\n",
       "      <td>NaN</td>\n",
       "      <td>NaN</td>\n",
       "      <td>NaN</td>\n",
       "      <td>NaN</td>\n",
       "    </tr>\n",
       "  </tbody>\n",
       "</table>\n",
       "</div>"
      ],
      "text/plain": [
       "                    device_id phone_brand device_model  event_counts  \\\n",
       "1199784   1002079943728939269          小米       小米note           7.0   \n",
       "482597   -1547860181818787117          小米          红米2           8.0   \n",
       "3243286   7374582448058474277          华为    Y523-L176           5.0   \n",
       "844354   -6220210354783429585          华为          荣耀6           9.0   \n",
       "8460527  -5893464122623104785          小米         MI 2           NaN   \n",
       "\n",
       "         installed  active               category  \n",
       "1199784       37.0     2.0  Property Industry 1.0  \n",
       "482597        21.0     8.0             Services 1  \n",
       "3243286       11.0     3.0     Irritation / Fun 1  \n",
       "844354        34.0    17.0  Property Industry 1.0  \n",
       "8460527        NaN     NaN                    NaN  "
      ]
     },
     "execution_count": 61,
     "metadata": {},
     "output_type": "execute_result"
    }
   ],
   "source": [
    "test.head()"
   ]
  },
  {
   "cell_type": "code",
   "execution_count": 62,
   "metadata": {
    "collapsed": false
   },
   "outputs": [],
   "source": [
    "lebrand_t = LabelEncoder().fit(test.phone_brand)\n",
    "test['brand'] = lebrand_t.transform(test.phone_brand)\n",
    "m = test.phone_brand.str.cat(test.device_model)\n",
    "lemodel_t = LabelEncoder().fit(m)\n",
    "test['model'] = lemodel_t.transform(m)\n",
    "lecategory_t = LabelEncoder().fit(test.category)\n",
    "test['Category'] = lecategory_t.transform(test.category)"
   ]
  },
  {
   "cell_type": "code",
   "execution_count": 63,
   "metadata": {
    "collapsed": false
   },
   "outputs": [
    {
     "data": {
      "text/html": [
       "<div>\n",
       "<table border=\"1\" class=\"dataframe\">\n",
       "  <thead>\n",
       "    <tr style=\"text-align: right;\">\n",
       "      <th></th>\n",
       "      <th>device_id</th>\n",
       "      <th>phone_brand</th>\n",
       "      <th>device_model</th>\n",
       "      <th>event_counts</th>\n",
       "      <th>installed</th>\n",
       "      <th>active</th>\n",
       "      <th>category</th>\n",
       "      <th>brand</th>\n",
       "      <th>model</th>\n",
       "      <th>Category</th>\n",
       "    </tr>\n",
       "  </thead>\n",
       "  <tbody>\n",
       "    <tr>\n",
       "      <th>1199784</th>\n",
       "      <td>1002079943728939269</td>\n",
       "      <td>小米</td>\n",
       "      <td>小米note</td>\n",
       "      <td>7.0</td>\n",
       "      <td>37.0</td>\n",
       "      <td>2.0</td>\n",
       "      <td>Property Industry 1.0</td>\n",
       "      <td>49</td>\n",
       "      <td>822</td>\n",
       "      <td>67</td>\n",
       "    </tr>\n",
       "    <tr>\n",
       "      <th>482597</th>\n",
       "      <td>-1547860181818787117</td>\n",
       "      <td>小米</td>\n",
       "      <td>红米2</td>\n",
       "      <td>8.0</td>\n",
       "      <td>21.0</td>\n",
       "      <td>8.0</td>\n",
       "      <td>Services 1</td>\n",
       "      <td>49</td>\n",
       "      <td>825</td>\n",
       "      <td>78</td>\n",
       "    </tr>\n",
       "    <tr>\n",
       "      <th>3243286</th>\n",
       "      <td>7374582448058474277</td>\n",
       "      <td>华为</td>\n",
       "      <td>Y523-L176</td>\n",
       "      <td>5.0</td>\n",
       "      <td>11.0</td>\n",
       "      <td>3.0</td>\n",
       "      <td>Irritation / Fun 1</td>\n",
       "      <td>29</td>\n",
       "      <td>692</td>\n",
       "      <td>52</td>\n",
       "    </tr>\n",
       "    <tr>\n",
       "      <th>844354</th>\n",
       "      <td>-6220210354783429585</td>\n",
       "      <td>华为</td>\n",
       "      <td>荣耀6</td>\n",
       "      <td>9.0</td>\n",
       "      <td>34.0</td>\n",
       "      <td>17.0</td>\n",
       "      <td>Property Industry 1.0</td>\n",
       "      <td>29</td>\n",
       "      <td>709</td>\n",
       "      <td>67</td>\n",
       "    </tr>\n",
       "    <tr>\n",
       "      <th>8460527</th>\n",
       "      <td>-5893464122623104785</td>\n",
       "      <td>小米</td>\n",
       "      <td>MI 2</td>\n",
       "      <td>NaN</td>\n",
       "      <td>NaN</td>\n",
       "      <td>NaN</td>\n",
       "      <td>NaN</td>\n",
       "      <td>49</td>\n",
       "      <td>808</td>\n",
       "      <td>0</td>\n",
       "    </tr>\n",
       "  </tbody>\n",
       "</table>\n",
       "</div>"
      ],
      "text/plain": [
       "                    device_id phone_brand device_model  event_counts  \\\n",
       "1199784   1002079943728939269          小米       小米note           7.0   \n",
       "482597   -1547860181818787117          小米          红米2           8.0   \n",
       "3243286   7374582448058474277          华为    Y523-L176           5.0   \n",
       "844354   -6220210354783429585          华为          荣耀6           9.0   \n",
       "8460527  -5893464122623104785          小米         MI 2           NaN   \n",
       "\n",
       "         installed  active               category  brand  model  Category  \n",
       "1199784       37.0     2.0  Property Industry 1.0     49    822        67  \n",
       "482597        21.0     8.0             Services 1     49    825        78  \n",
       "3243286       11.0     3.0     Irritation / Fun 1     29    692        52  \n",
       "844354        34.0    17.0  Property Industry 1.0     29    709        67  \n",
       "8460527        NaN     NaN                    NaN     49    808         0  "
      ]
     },
     "execution_count": 63,
     "metadata": {},
     "output_type": "execute_result"
    }
   ],
   "source": [
    "test.head()"
   ]
  },
  {
   "cell_type": "code",
   "execution_count": 64,
   "metadata": {
    "collapsed": true
   },
   "outputs": [],
   "source": [
    "test.to_csv('test_encoded.csv')"
   ]
  },
  {
   "cell_type": "code",
   "execution_count": 66,
   "metadata": {
    "collapsed": true
   },
   "outputs": [],
   "source": [
    "# Impute the N/A with -1\n",
    "test.fillna(-1, inplace=True)"
   ]
  },
  {
   "cell_type": "code",
   "execution_count": 67,
   "metadata": {
    "collapsed": false
   },
   "outputs": [
    {
     "data": {
      "text/html": [
       "<div>\n",
       "<table border=\"1\" class=\"dataframe\">\n",
       "  <thead>\n",
       "    <tr style=\"text-align: right;\">\n",
       "      <th></th>\n",
       "      <th>device_id</th>\n",
       "      <th>phone_brand</th>\n",
       "      <th>device_model</th>\n",
       "      <th>event_counts</th>\n",
       "      <th>installed</th>\n",
       "      <th>active</th>\n",
       "      <th>category</th>\n",
       "      <th>brand</th>\n",
       "      <th>model</th>\n",
       "      <th>Category</th>\n",
       "    </tr>\n",
       "  </thead>\n",
       "  <tbody>\n",
       "    <tr>\n",
       "      <th>1199784</th>\n",
       "      <td>1002079943728939269</td>\n",
       "      <td>小米</td>\n",
       "      <td>小米note</td>\n",
       "      <td>7.0</td>\n",
       "      <td>37.0</td>\n",
       "      <td>2.0</td>\n",
       "      <td>Property Industry 1.0</td>\n",
       "      <td>49</td>\n",
       "      <td>822</td>\n",
       "      <td>67</td>\n",
       "    </tr>\n",
       "    <tr>\n",
       "      <th>482597</th>\n",
       "      <td>-1547860181818787117</td>\n",
       "      <td>小米</td>\n",
       "      <td>红米2</td>\n",
       "      <td>8.0</td>\n",
       "      <td>21.0</td>\n",
       "      <td>8.0</td>\n",
       "      <td>Services 1</td>\n",
       "      <td>49</td>\n",
       "      <td>825</td>\n",
       "      <td>78</td>\n",
       "    </tr>\n",
       "    <tr>\n",
       "      <th>3243286</th>\n",
       "      <td>7374582448058474277</td>\n",
       "      <td>华为</td>\n",
       "      <td>Y523-L176</td>\n",
       "      <td>5.0</td>\n",
       "      <td>11.0</td>\n",
       "      <td>3.0</td>\n",
       "      <td>Irritation / Fun 1</td>\n",
       "      <td>29</td>\n",
       "      <td>692</td>\n",
       "      <td>52</td>\n",
       "    </tr>\n",
       "    <tr>\n",
       "      <th>844354</th>\n",
       "      <td>-6220210354783429585</td>\n",
       "      <td>华为</td>\n",
       "      <td>荣耀6</td>\n",
       "      <td>9.0</td>\n",
       "      <td>34.0</td>\n",
       "      <td>17.0</td>\n",
       "      <td>Property Industry 1.0</td>\n",
       "      <td>29</td>\n",
       "      <td>709</td>\n",
       "      <td>67</td>\n",
       "    </tr>\n",
       "    <tr>\n",
       "      <th>8460527</th>\n",
       "      <td>-5893464122623104785</td>\n",
       "      <td>小米</td>\n",
       "      <td>MI 2</td>\n",
       "      <td>-1.0</td>\n",
       "      <td>-1.0</td>\n",
       "      <td>-1.0</td>\n",
       "      <td>-1</td>\n",
       "      <td>49</td>\n",
       "      <td>808</td>\n",
       "      <td>0</td>\n",
       "    </tr>\n",
       "  </tbody>\n",
       "</table>\n",
       "</div>"
      ],
      "text/plain": [
       "                    device_id phone_brand device_model  event_counts  \\\n",
       "1199784   1002079943728939269          小米       小米note           7.0   \n",
       "482597   -1547860181818787117          小米          红米2           8.0   \n",
       "3243286   7374582448058474277          华为    Y523-L176           5.0   \n",
       "844354   -6220210354783429585          华为          荣耀6           9.0   \n",
       "8460527  -5893464122623104785          小米         MI 2          -1.0   \n",
       "\n",
       "         installed  active               category  brand  model  Category  \n",
       "1199784       37.0     2.0  Property Industry 1.0     49    822        67  \n",
       "482597        21.0     8.0             Services 1     49    825        78  \n",
       "3243286       11.0     3.0     Irritation / Fun 1     29    692        52  \n",
       "844354        34.0    17.0  Property Industry 1.0     29    709        67  \n",
       "8460527       -1.0    -1.0                     -1     49    808         0  "
      ]
     },
     "execution_count": 67,
     "metadata": {},
     "output_type": "execute_result"
    }
   ],
   "source": [
    "test.head()"
   ]
  },
  {
   "cell_type": "code",
   "execution_count": 68,
   "metadata": {
    "collapsed": false
   },
   "outputs": [
    {
     "data": {
      "text/plain": [
       "112071"
      ]
     },
     "execution_count": 68,
     "metadata": {},
     "output_type": "execute_result"
    }
   ],
   "source": [
    "test.shape[0]"
   ]
  },
  {
   "cell_type": "code",
   "execution_count": 69,
   "metadata": {
    "collapsed": true
   },
   "outputs": [],
   "source": [
    "features = list(test.columns.values)"
   ]
  },
  {
   "cell_type": "code",
   "execution_count": 70,
   "metadata": {
    "collapsed": false
   },
   "outputs": [
    {
     "data": {
      "text/plain": [
       "['device_id',\n",
       " 'phone_brand',\n",
       " 'device_model',\n",
       " 'event_counts',\n",
       " 'installed',\n",
       " 'active',\n",
       " 'category',\n",
       " 'brand',\n",
       " 'model',\n",
       " 'Category']"
      ]
     },
     "execution_count": 70,
     "metadata": {},
     "output_type": "execute_result"
    }
   ],
   "source": [
    "features"
   ]
  },
  {
   "cell_type": "code",
   "execution_count": 71,
   "metadata": {
    "collapsed": true
   },
   "outputs": [],
   "source": [
    "features.remove('device_id')"
   ]
  },
  {
   "cell_type": "code",
   "execution_count": 72,
   "metadata": {
    "collapsed": false
   },
   "outputs": [
    {
     "data": {
      "text/plain": [
       "['phone_brand',\n",
       " 'device_model',\n",
       " 'event_counts',\n",
       " 'installed',\n",
       " 'active',\n",
       " 'category',\n",
       " 'brand',\n",
       " 'model',\n",
       " 'Category']"
      ]
     },
     "execution_count": 72,
     "metadata": {},
     "output_type": "execute_result"
    }
   ],
   "source": [
    "features"
   ]
  },
  {
   "cell_type": "code",
   "execution_count": 73,
   "metadata": {
    "collapsed": true
   },
   "outputs": [],
   "source": [
    "del events_small, events, pbd, ape, act"
   ]
  },
  {
   "cell_type": "code",
   "execution_count": 75,
   "metadata": {
    "collapsed": true
   },
   "outputs": [],
   "source": [
    "del apl"
   ]
  },
  {
   "cell_type": "markdown",
   "metadata": {},
   "source": [
    "# Cleaning Done!\n",
    "\n",
    "# Let's do Modelling!"
   ]
  },
  {
   "cell_type": "code",
   "execution_count": 78,
   "metadata": {
    "collapsed": true
   },
   "outputs": [],
   "source": [
    "X = train[['brand', 'model', 'Category', 'installed', 'active', 'event_counts']]"
   ]
  },
  {
   "cell_type": "code",
   "execution_count": 79,
   "metadata": {
    "collapsed": true
   },
   "outputs": [],
   "source": [
    "y = train['Groups']"
   ]
  },
  {
   "cell_type": "markdown",
   "metadata": {},
   "source": [
    "# Before that.....Feature Selection!"
   ]
  },
  {
   "cell_type": "markdown",
   "metadata": {},
   "source": [
    "# Variance Threshold"
   ]
  },
  {
   "cell_type": "code",
   "execution_count": 80,
   "metadata": {
    "collapsed": true
   },
   "outputs": [],
   "source": [
    "from sklearn.feature_selection import VarianceThreshold, RFE, SelectKBest, chi2"
   ]
  },
  {
   "cell_type": "code",
   "execution_count": 82,
   "metadata": {
    "collapsed": false
   },
   "outputs": [
    {
     "name": "stderr",
     "output_type": "stream",
     "text": [
      "C:\\Users\\richter Belmont\\Anaconda2\\lib\\site-packages\\pandas\\indexes\\base.py:1267: VisibleDeprecationWarning: boolean index did not match indexed array along dimension 0; dimension is 14 but corresponding boolean dimension is 6\n",
      "  result = getitem(key)\n"
     ]
    },
    {
     "data": {
      "text/plain": [
       "Index([u'device_id', u'gender', u'age', u'group', u'phone_brand',\n",
       "       u'device_model'],\n",
       "      dtype='object')"
      ]
     },
     "execution_count": 82,
     "metadata": {},
     "output_type": "execute_result"
    }
   ],
   "source": [
    "threshold = 0.90\n",
    "vt = VarianceThreshold().fit(X)\n",
    "\n",
    "# Find feature names\n",
    "feat_var_threshold = train.columns[vt.variances_ > threshold * (1-threshold)]\n",
    "feat_var_threshold"
   ]
  },
  {
   "cell_type": "markdown",
   "metadata": {},
   "source": [
    "# Important Features...\n",
    "\n",
    "using Random Forest Classifier"
   ]
  },
  {
   "cell_type": "code",
   "execution_count": 83,
   "metadata": {
    "collapsed": true
   },
   "outputs": [],
   "source": [
    "import sklearn.ensemble"
   ]
  },
  {
   "cell_type": "code",
   "execution_count": 84,
   "metadata": {
    "collapsed": true
   },
   "outputs": [],
   "source": [
    "model = sklearn.ensemble.RandomForestClassifier()"
   ]
  },
  {
   "cell_type": "code",
   "execution_count": 85,
   "metadata": {
    "collapsed": false
   },
   "outputs": [
    {
     "data": {
      "text/plain": [
       "RandomForestClassifier(bootstrap=True, class_weight=None, criterion='gini',\n",
       "            max_depth=None, max_features='auto', max_leaf_nodes=None,\n",
       "            min_samples_leaf=1, min_samples_split=2,\n",
       "            min_weight_fraction_leaf=0.0, n_estimators=10, n_jobs=1,\n",
       "            oob_score=False, random_state=None, verbose=0,\n",
       "            warm_start=False)"
      ]
     },
     "execution_count": 85,
     "metadata": {},
     "output_type": "execute_result"
    }
   ],
   "source": [
    "model.fit(X, y)"
   ]
  },
  {
   "cell_type": "code",
   "execution_count": 86,
   "metadata": {
    "collapsed": false
   },
   "outputs": [
    {
     "data": {
      "text/plain": [
       "Index([u'model', u'event_counts', u'installed', u'active', u'Category',\n",
       "       u'brand'],\n",
       "      dtype='object')"
      ]
     },
     "execution_count": 86,
     "metadata": {},
     "output_type": "execute_result"
    }
   ],
   "source": [
    "feature_imp = pd.DataFrame(model.feature_importances_, index=X.columns, columns=['Importance'])\n",
    "feat_imp_sort = feature_imp.sort_values('Importance', ascending=False).head(20).index\n",
    "feat_imp_sort"
   ]
  },
  {
   "cell_type": "markdown",
   "metadata": {},
   "source": [
    "# Evaluating Algorithms"
   ]
  },
  {
   "cell_type": "markdown",
   "metadata": {},
   "source": [
    "# 1) Decision Tree"
   ]
  },
  {
   "cell_type": "code",
   "execution_count": 87,
   "metadata": {
    "collapsed": true
   },
   "outputs": [],
   "source": [
    "import sklearn.tree"
   ]
  },
  {
   "cell_type": "code",
   "execution_count": 89,
   "metadata": {
    "collapsed": false
   },
   "outputs": [],
   "source": [
    "# Using just 3 features (brand, model, categories)\n",
    "X1 = X.drop(['event_counts', 'installed', 'active'], axis=1)"
   ]
  },
  {
   "cell_type": "code",
   "execution_count": 116,
   "metadata": {
    "collapsed": true
   },
   "outputs": [],
   "source": [
    "dt = sklearn.tree.DecisionTreeClassifier(max_depth=4)"
   ]
  },
  {
   "cell_type": "code",
   "execution_count": 117,
   "metadata": {
    "collapsed": false
   },
   "outputs": [
    {
     "data": {
      "text/plain": [
       "DecisionTreeClassifier(class_weight=None, criterion='gini', max_depth=4,\n",
       "            max_features=None, max_leaf_nodes=None, min_samples_leaf=1,\n",
       "            min_samples_split=2, min_weight_fraction_leaf=0.0,\n",
       "            presort=False, random_state=None, splitter='best')"
      ]
     },
     "execution_count": 117,
     "metadata": {},
     "output_type": "execute_result"
    }
   ],
   "source": [
    "dt.fit(X, y)"
   ]
  },
  {
   "cell_type": "code",
   "execution_count": 118,
   "metadata": {
    "collapsed": false
   },
   "outputs": [
    {
     "data": {
      "text/html": [
       "<div>\n",
       "<table border=\"1\" class=\"dataframe\">\n",
       "  <thead>\n",
       "    <tr style=\"text-align: right;\">\n",
       "      <th></th>\n",
       "      <th>brand</th>\n",
       "      <th>model</th>\n",
       "      <th>Category</th>\n",
       "      <th>installed</th>\n",
       "      <th>active</th>\n",
       "      <th>event_counts</th>\n",
       "    </tr>\n",
       "  </thead>\n",
       "  <tbody>\n",
       "    <tr>\n",
       "      <th>8460527</th>\n",
       "      <td>47</td>\n",
       "      <td>761</td>\n",
       "      <td>0</td>\n",
       "      <td>-1.0</td>\n",
       "      <td>-1.0</td>\n",
       "      <td>-1.0</td>\n",
       "    </tr>\n",
       "    <tr>\n",
       "      <th>8460527</th>\n",
       "      <td>47</td>\n",
       "      <td>761</td>\n",
       "      <td>0</td>\n",
       "      <td>-1.0</td>\n",
       "      <td>-1.0</td>\n",
       "      <td>-1.0</td>\n",
       "    </tr>\n",
       "    <tr>\n",
       "      <th>6455195</th>\n",
       "      <td>47</td>\n",
       "      <td>761</td>\n",
       "      <td>72</td>\n",
       "      <td>53.0</td>\n",
       "      <td>6.0</td>\n",
       "      <td>1.0</td>\n",
       "    </tr>\n",
       "    <tr>\n",
       "      <th>8460527</th>\n",
       "      <td>47</td>\n",
       "      <td>783</td>\n",
       "      <td>0</td>\n",
       "      <td>-1.0</td>\n",
       "      <td>-1.0</td>\n",
       "      <td>-1.0</td>\n",
       "    </tr>\n",
       "    <tr>\n",
       "      <th>8460527</th>\n",
       "      <td>47</td>\n",
       "      <td>765</td>\n",
       "      <td>0</td>\n",
       "      <td>-1.0</td>\n",
       "      <td>-1.0</td>\n",
       "      <td>-1.0</td>\n",
       "    </tr>\n",
       "  </tbody>\n",
       "</table>\n",
       "</div>"
      ],
      "text/plain": [
       "         brand  model  Category  installed  active  event_counts\n",
       "8460527     47    761         0       -1.0    -1.0          -1.0\n",
       "8460527     47    761         0       -1.0    -1.0          -1.0\n",
       "6455195     47    761        72       53.0     6.0           1.0\n",
       "8460527     47    783         0       -1.0    -1.0          -1.0\n",
       "8460527     47    765         0       -1.0    -1.0          -1.0"
      ]
     },
     "execution_count": 118,
     "metadata": {},
     "output_type": "execute_result"
    }
   ],
   "source": [
    "X.head()"
   ]
  },
  {
   "cell_type": "code",
   "execution_count": 119,
   "metadata": {
    "collapsed": false
   },
   "outputs": [
    {
     "data": {
      "text/plain": [
       "[(7, 10),\n",
       " (7, 10),\n",
       " (7, 10),\n",
       " (7, 9),\n",
       " (7, 9),\n",
       " (0, 1),\n",
       " (7, 10),\n",
       " (7, 10),\n",
       " (0, 10),\n",
       " (10, 4),\n",
       " (7, 9),\n",
       " (10, 4),\n",
       " (10, 2),\n",
       " (10, 10),\n",
       " (7, 11),\n",
       " (11, 2),\n",
       " (7, 10),\n",
       " (7, 10),\n",
       " (6, 11),\n",
       " (7, 10),\n",
       " (10, 4),\n",
       " (7, 7),\n",
       " (7, 7),\n",
       " (10, 8),\n",
       " (7, 9),\n",
       " (10, 10),\n",
       " (10, 10),\n",
       " (10, 4),\n",
       " (10, 10),\n",
       " (11, 10),\n",
       " (7, 10),\n",
       " (0, 10),\n",
       " (7, 6),\n",
       " (7, 9),\n",
       " (7, 10),\n",
       " (10, 10),\n",
       " (0, 7),\n",
       " (7, 10),\n",
       " (7, 10),\n",
       " (10, 9),\n",
       " (6, 8),\n",
       " (6, 6),\n",
       " (7, 9),\n",
       " (10, 9),\n",
       " (10, 8),\n",
       " (10, 8),\n",
       " (10, 8),\n",
       " (10, 8),\n",
       " (7, 2),\n",
       " (7, 9),\n",
       " (7, 4),\n",
       " (7, 9),\n",
       " (7, 9),\n",
       " (10, 4),\n",
       " (10, 4),\n",
       " (7, 10),\n",
       " (7, 10),\n",
       " (7, 10),\n",
       " (7, 11),\n",
       " (0, 9),\n",
       " (7, 7),\n",
       " (7, 7),\n",
       " (10, 10),\n",
       " (11, 8),\n",
       " (7, 11),\n",
       " (10, 8),\n",
       " (7, 10),\n",
       " (7, 2),\n",
       " (10, 10),\n",
       " (7, 8),\n",
       " (0, 11),\n",
       " (7, 11),\n",
       " (7, 11),\n",
       " (10, 8),\n",
       " (11, 6),\n",
       " (7, 8),\n",
       " (0, 5),\n",
       " (11, 5),\n",
       " (7, 7),\n",
       " (7, 11),\n",
       " (7, 10),\n",
       " (7, 10),\n",
       " (7, 10),\n",
       " (10, 9),\n",
       " (7, 5),\n",
       " (11, 8),\n",
       " (10, 11),\n",
       " (10, 11),\n",
       " (10, 7),\n",
       " (7, 11),\n",
       " (7, 10),\n",
       " (10, 11),\n",
       " (11, 11),\n",
       " (11, 7),\n",
       " (7, 5),\n",
       " (7, 9),\n",
       " (6, 0),\n",
       " (6, 0),\n",
       " (10, 9),\n",
       " (7, 9),\n",
       " (7, 2),\n",
       " (6, 2),\n",
       " (10, 8),\n",
       " (7, 6),\n",
       " (7, 0),\n",
       " (7, 0),\n",
       " (7, 0),\n",
       " (7, 6),\n",
       " (10, 4),\n",
       " (10, 1),\n",
       " (7, 6),\n",
       " (6, 7),\n",
       " (6, 7),\n",
       " (7, 9),\n",
       " (7, 9),\n",
       " (7, 8),\n",
       " (7, 1),\n",
       " (7, 11),\n",
       " (0, 0),\n",
       " (0, 0),\n",
       " (7, 7),\n",
       " (7, 2),\n",
       " (7, 2),\n",
       " (7, 9),\n",
       " (7, 8),\n",
       " (7, 7),\n",
       " (7, 11),\n",
       " (10, 1),\n",
       " (7, 8),\n",
       " (10, 3),\n",
       " (10, 3),\n",
       " (7, 2),\n",
       " (6, 9),\n",
       " (10, 9),\n",
       " (7, 2),\n",
       " (7, 3),\n",
       " (7, 3),\n",
       " (0, 0),\n",
       " (7, 4),\n",
       " (7, 7),\n",
       " (0, 0),\n",
       " (11, 10),\n",
       " (7, 4),\n",
       " (10, 0),\n",
       " (7, 10),\n",
       " (7, 10),\n",
       " (7, 10),\n",
       " (7, 10),\n",
       " (11, 10),\n",
       " (6, 0),\n",
       " (11, 9),\n",
       " (7, 10),\n",
       " (10, 2),\n",
       " (7, 10),\n",
       " (7, 10),\n",
       " (7, 10),\n",
       " (7, 2),\n",
       " (7, 4),\n",
       " (10, 11),\n",
       " (6, 6),\n",
       " (11, 5),\n",
       " (10, 4),\n",
       " (10, 3),\n",
       " (10, 9),\n",
       " (7, 8),\n",
       " (10, 9),\n",
       " (7, 9),\n",
       " (7, 8),\n",
       " (7, 8),\n",
       " (7, 10),\n",
       " (7, 10),\n",
       " (10, 4),\n",
       " (7, 5),\n",
       " (10, 5),\n",
       " (10, 5),\n",
       " (10, 9),\n",
       " (11, 11),\n",
       " (7, 11),\n",
       " (11, 10),\n",
       " (7, 3),\n",
       " (10, 10),\n",
       " (7, 7),\n",
       " (7, 7),\n",
       " (7, 10),\n",
       " (7, 10),\n",
       " (7, 9),\n",
       " (10, 2),\n",
       " (10, 2),\n",
       " (10, 2),\n",
       " (10, 2),\n",
       " (10, 8),\n",
       " (7, 9),\n",
       " (7, 9),\n",
       " (7, 11),\n",
       " (6, 7),\n",
       " (11, 9),\n",
       " (7, 4),\n",
       " (10, 4),\n",
       " (7, 10),\n",
       " (7, 10),\n",
       " (7, 7),\n",
       " (7, 6),\n",
       " (7, 10),\n",
       " (10, 10),\n",
       " (7, 3),\n",
       " (11, 8),\n",
       " (11, 9),\n",
       " (11, 11),\n",
       " (7, 10),\n",
       " (7, 10),\n",
       " (11, 3),\n",
       " (7, 0),\n",
       " (7, 3),\n",
       " (7, 5),\n",
       " (11, 10),\n",
       " (10, 11),\n",
       " (7, 10),\n",
       " (10, 3),\n",
       " (10, 8),\n",
       " (10, 6),\n",
       " (7, 10),\n",
       " (7, 10),\n",
       " (7, 10),\n",
       " (7, 11),\n",
       " (10, 4),\n",
       " (0, 11),\n",
       " (0, 11),\n",
       " (0, 11),\n",
       " (0, 11),\n",
       " (7, 11),\n",
       " (0, 1),\n",
       " (7, 5),\n",
       " (7, 3),\n",
       " (0, 8),\n",
       " (0, 8),\n",
       " (0, 8),\n",
       " (10, 9),\n",
       " (7, 1),\n",
       " (7, 11),\n",
       " (10, 11),\n",
       " (10, 11),\n",
       " (7, 11),\n",
       " (7, 10),\n",
       " (0, 11),\n",
       " (7, 10),\n",
       " (11, 7),\n",
       " (7, 11),\n",
       " (10, 10),\n",
       " (10, 11),\n",
       " (10, 2),\n",
       " (10, 8),\n",
       " (7, 3),\n",
       " (7, 4),\n",
       " (7, 6),\n",
       " (6, 1),\n",
       " (10, 10),\n",
       " (7, 10),\n",
       " (7, 6),\n",
       " (7, 8),\n",
       " (10, 5),\n",
       " (7, 10),\n",
       " (6, 9),\n",
       " (10, 11),\n",
       " (10, 11),\n",
       " (10, 5),\n",
       " (10, 5),\n",
       " (10, 5),\n",
       " (7, 10),\n",
       " (7, 4),\n",
       " (0, 7),\n",
       " (11, 1),\n",
       " (7, 3),\n",
       " (0, 10),\n",
       " (7, 10),\n",
       " (7, 6),\n",
       " (11, 10),\n",
       " (7, 3),\n",
       " (7, 3),\n",
       " (7, 3),\n",
       " (7, 3),\n",
       " (7, 3),\n",
       " (7, 8),\n",
       " (7, 7),\n",
       " (7, 10),\n",
       " (7, 3),\n",
       " (7, 9),\n",
       " (7, 4),\n",
       " (10, 11),\n",
       " (10, 4),\n",
       " (10, 4),\n",
       " (7, 3),\n",
       " (7, 9),\n",
       " (7, 0),\n",
       " (7, 0),\n",
       " (7, 5),\n",
       " (7, 11),\n",
       " (7, 3),\n",
       " (7, 3),\n",
       " (7, 7),\n",
       " (7, 7),\n",
       " (7, 2),\n",
       " (0, 7),\n",
       " (11, 11),\n",
       " (7, 3),\n",
       " (7, 9),\n",
       " (7, 9),\n",
       " (7, 10),\n",
       " (7, 11),\n",
       " (7, 10),\n",
       " (7, 8),\n",
       " (7, 6),\n",
       " (7, 10),\n",
       " (7, 10),\n",
       " (7, 4),\n",
       " (7, 10),\n",
       " (7, 7),\n",
       " (0, 4),\n",
       " (7, 4),\n",
       " (7, 7),\n",
       " (7, 7),\n",
       " (7, 7),\n",
       " (7, 11),\n",
       " (7, 11),\n",
       " (7, 8),\n",
       " (7, 7),\n",
       " (0, 9),\n",
       " (10, 7),\n",
       " (7, 7),\n",
       " (11, 4),\n",
       " (0, 8),\n",
       " (7, 11),\n",
       " (7, 10),\n",
       " (0, 1),\n",
       " (0, 1),\n",
       " (7, 5),\n",
       " (0, 1),\n",
       " (10, 9),\n",
       " (7, 3),\n",
       " (7, 10),\n",
       " (7, 10),\n",
       " (7, 11),\n",
       " (7, 3),\n",
       " (7, 11),\n",
       " (7, 9),\n",
       " (10, 3),\n",
       " (10, 9),\n",
       " (0, 5),\n",
       " (6, 9),\n",
       " (7, 9),\n",
       " (7, 7),\n",
       " (11, 5),\n",
       " (7, 6),\n",
       " (10, 7),\n",
       " (11, 7),\n",
       " (7, 2),\n",
       " (7, 2),\n",
       " (10, 4),\n",
       " (11, 3),\n",
       " (7, 6),\n",
       " (7, 5),\n",
       " (7, 5),\n",
       " (11, 11),\n",
       " (7, 10),\n",
       " (7, 11),\n",
       " (7, 10),\n",
       " (7, 10),\n",
       " (7, 3),\n",
       " (7, 3),\n",
       " (6, 3),\n",
       " (0, 2),\n",
       " (0, 2),\n",
       " (10, 2),\n",
       " (11, 9),\n",
       " (7, 9),\n",
       " (10, 8),\n",
       " (7, 10),\n",
       " (10, 9),\n",
       " (7, 4),\n",
       " (6, 10),\n",
       " (7, 10),\n",
       " (11, 10),\n",
       " (7, 8),\n",
       " (7, 11),\n",
       " (7, 11),\n",
       " (7, 7),\n",
       " (7, 9),\n",
       " (7, 11),\n",
       " (10, 7),\n",
       " (7, 10),\n",
       " (10, 9),\n",
       " (10, 8),\n",
       " (7, 10),\n",
       " (7, 7),\n",
       " (10, 10),\n",
       " (7, 2),\n",
       " (11, 9),\n",
       " (7, 6),\n",
       " (7, 6),\n",
       " (7, 10),\n",
       " (10, 10),\n",
       " (11, 11),\n",
       " (10, 9),\n",
       " (7, 9),\n",
       " (0, 2),\n",
       " (10, 11),\n",
       " (7, 5),\n",
       " (7, 10),\n",
       " (6, 10),\n",
       " (11, 10),\n",
       " (10, 8),\n",
       " (7, 7),\n",
       " (7, 4),\n",
       " (10, 7),\n",
       " (7, 10),\n",
       " (10, 4),\n",
       " (7, 5),\n",
       " (7, 11),\n",
       " (6, 2),\n",
       " (10, 11),\n",
       " (7, 9),\n",
       " (7, 0),\n",
       " (7, 9),\n",
       " (7, 9),\n",
       " (7, 11),\n",
       " (11, 10),\n",
       " (7, 7),\n",
       " (7, 7),\n",
       " (7, 9),\n",
       " (7, 6),\n",
       " (7, 11),\n",
       " (7, 4),\n",
       " (10, 11),\n",
       " (10, 11),\n",
       " (7, 9),\n",
       " (11, 10),\n",
       " (10, 10),\n",
       " (6, 8),\n",
       " (10, 11),\n",
       " (7, 0),\n",
       " (11, 10),\n",
       " (7, 8),\n",
       " (7, 4),\n",
       " (11, 9),\n",
       " (10, 10),\n",
       " (7, 11),\n",
       " (7, 7),\n",
       " (7, 6),\n",
       " (7, 6),\n",
       " (7, 4),\n",
       " (7, 9),\n",
       " (10, 11),\n",
       " (7, 6),\n",
       " (0, 7),\n",
       " (10, 5),\n",
       " (11, 4),\n",
       " (7, 3),\n",
       " (7, 9),\n",
       " (7, 9),\n",
       " (7, 7),\n",
       " (7, 4),\n",
       " (7, 5),\n",
       " (10, 5),\n",
       " (7, 3),\n",
       " (10, 3),\n",
       " (7, 7),\n",
       " (11, 8),\n",
       " (7, 9),\n",
       " (7, 9),\n",
       " (7, 9),\n",
       " (7, 9),\n",
       " (11, 10),\n",
       " (7, 8),\n",
       " (0, 7),\n",
       " (7, 7),\n",
       " (7, 7),\n",
       " (0, 7),\n",
       " (0, 9),\n",
       " (0, 9),\n",
       " (0, 9),\n",
       " (7, 8),\n",
       " (7, 2),\n",
       " (10, 8),\n",
       " (7, 11),\n",
       " (7, 11),\n",
       " (11, 11),\n",
       " (7, 7),\n",
       " (10, 10),\n",
       " (7, 10),\n",
       " (7, 9),\n",
       " (10, 10),\n",
       " (10, 10),\n",
       " (7, 9),\n",
       " (7, 9),\n",
       " (11, 11),\n",
       " (7, 10),\n",
       " (7, 7),\n",
       " (7, 11),\n",
       " (11, 11),\n",
       " (7, 10),\n",
       " (7, 11),\n",
       " (10, 10),\n",
       " (7, 6),\n",
       " (7, 10),\n",
       " (7, 7),\n",
       " (6, 8),\n",
       " (10, 11),\n",
       " (10, 11),\n",
       " (0, 10),\n",
       " (0, 10),\n",
       " (0, 10),\n",
       " (11, 7),\n",
       " (7, 4),\n",
       " (7, 10),\n",
       " (10, 4),\n",
       " (0, 7),\n",
       " (7, 1),\n",
       " (10, 10),\n",
       " (0, 7),\n",
       " (11, 11),\n",
       " (7, 11),\n",
       " (0, 11),\n",
       " (11, 11),\n",
       " (7, 11),\n",
       " (11, 10),\n",
       " (7, 8),\n",
       " (7, 2),\n",
       " (0, 0),\n",
       " (10, 4),\n",
       " (10, 4),\n",
       " (10, 4),\n",
       " (10, 4),\n",
       " (7, 10),\n",
       " (6, 7),\n",
       " (10, 3),\n",
       " (7, 9),\n",
       " (7, 4),\n",
       " (10, 4),\n",
       " (7, 7),\n",
       " (7, 7),\n",
       " (10, 7),\n",
       " (7, 10),\n",
       " (7, 10),\n",
       " (6, 9),\n",
       " (7, 9),\n",
       " (11, 10),\n",
       " (10, 7),\n",
       " (10, 10),\n",
       " (10, 11),\n",
       " (10, 8),\n",
       " (11, 8),\n",
       " (0, 0),\n",
       " (0, 0),\n",
       " (10, 10),\n",
       " (10, 10),\n",
       " (7, 5),\n",
       " (7, 7),\n",
       " (7, 7),\n",
       " (10, 9),\n",
       " (7, 11),\n",
       " (11, 2),\n",
       " (7, 5),\n",
       " (7, 8),\n",
       " (10, 8),\n",
       " (7, 10),\n",
       " (7, 10),\n",
       " (7, 8),\n",
       " (0, 4),\n",
       " (7, 10),\n",
       " (7, 11),\n",
       " (11, 8),\n",
       " (7, 8),\n",
       " (7, 8),\n",
       " (7, 11),\n",
       " (10, 4),\n",
       " (7, 9),\n",
       " (7, 10),\n",
       " (10, 2),\n",
       " (6, 1),\n",
       " (7, 8),\n",
       " (7, 10),\n",
       " (11, 10),\n",
       " (7, 0),\n",
       " (10, 1),\n",
       " (10, 1),\n",
       " (10, 1),\n",
       " (7, 7),\n",
       " (0, 1),\n",
       " (7, 7),\n",
       " (7, 2),\n",
       " (6, 6),\n",
       " (10, 2),\n",
       " (10, 3),\n",
       " (7, 1),\n",
       " (7, 10),\n",
       " (7, 9),\n",
       " (7, 9),\n",
       " (7, 2),\n",
       " (7, 1),\n",
       " (7, 11),\n",
       " (7, 0),\n",
       " (7, 0),\n",
       " (10, 3),\n",
       " (10, 11),\n",
       " (7, 7),\n",
       " (7, 9),\n",
       " (11, 7),\n",
       " (7, 6),\n",
       " (6, 4),\n",
       " (7, 9),\n",
       " (7, 10),\n",
       " (10, 10),\n",
       " (11, 10),\n",
       " (7, 6),\n",
       " (7, 7),\n",
       " (7, 5),\n",
       " (0, 6),\n",
       " (10, 4),\n",
       " (7, 4),\n",
       " (6, 1),\n",
       " (7, 7),\n",
       " (7, 0),\n",
       " (11, 6),\n",
       " (6, 2),\n",
       " (6, 9),\n",
       " (10, 9),\n",
       " (10, 1),\n",
       " (10, 1),\n",
       " (7, 1),\n",
       " (7, 9),\n",
       " (7, 1),\n",
       " (7, 5),\n",
       " (10, 9),\n",
       " (7, 6),\n",
       " (6, 8),\n",
       " (6, 7),\n",
       " (6, 7),\n",
       " (7, 6),\n",
       " (0, 6),\n",
       " (7, 0),\n",
       " (7, 0),\n",
       " (7, 6),\n",
       " (10, 1),\n",
       " (0, 11),\n",
       " (7, 7),\n",
       " (7, 7),\n",
       " (7, 10),\n",
       " (7, 1),\n",
       " (10, 7),\n",
       " (11, 11),\n",
       " (7, 0),\n",
       " (7, 7),\n",
       " (7, 1),\n",
       " (10, 3),\n",
       " (10, 3),\n",
       " (10, 3),\n",
       " (7, 1),\n",
       " (7, 1),\n",
       " (10, 6),\n",
       " (7, 1),\n",
       " (7, 0),\n",
       " (7, 2),\n",
       " (7, 2),\n",
       " (7, 0),\n",
       " (10, 6),\n",
       " (10, 6),\n",
       " (7, 3),\n",
       " (7, 11),\n",
       " (7, 6),\n",
       " (7, 6),\n",
       " (7, 6),\n",
       " (7, 6),\n",
       " (7, 6),\n",
       " (7, 6),\n",
       " (7, 6),\n",
       " (7, 0),\n",
       " (11, 9),\n",
       " (10, 10),\n",
       " (7, 10),\n",
       " (7, 9),\n",
       " (10, 0),\n",
       " (10, 7),\n",
       " (7, 11),\n",
       " (0, 3),\n",
       " (11, 3),\n",
       " (7, 6),\n",
       " (7, 6),\n",
       " (7, 6),\n",
       " (7, 4),\n",
       " (7, 4),\n",
       " (7, 7),\n",
       " (10, 6),\n",
       " (7, 7),\n",
       " (0, 0),\n",
       " (10, 9),\n",
       " (6, 10),\n",
       " (7, 10),\n",
       " (7, 6),\n",
       " (7, 6),\n",
       " (10, 4),\n",
       " (7, 3),\n",
       " (7, 3),\n",
       " (10, 6),\n",
       " (6, 7),\n",
       " (6, 7),\n",
       " (6, 7),\n",
       " (10, 10),\n",
       " (11, 8),\n",
       " (10, 3),\n",
       " (7, 6),\n",
       " (10, 1),\n",
       " (7, 2),\n",
       " (7, 0),\n",
       " (7, 3),\n",
       " (0, 0),\n",
       " (0, 6),\n",
       " (0, 6),\n",
       " (0, 0),\n",
       " (0, 0),\n",
       " (7, 3),\n",
       " (7, 3),\n",
       " (10, 6),\n",
       " (0, 0),\n",
       " (7, 6),\n",
       " (10, 2),\n",
       " (10, 2),\n",
       " (10, 9),\n",
       " (7, 9),\n",
       " (7, 9),\n",
       " (7, 6),\n",
       " (6, 5),\n",
       " (7, 6),\n",
       " (6, 7),\n",
       " (7, 9),\n",
       " (7, 0),\n",
       " (7, 7),\n",
       " (7, 7),\n",
       " (10, 0),\n",
       " (7, 0),\n",
       " (10, 0),\n",
       " (7, 7),\n",
       " (10, 7),\n",
       " (7, 0),\n",
       " (0, 3),\n",
       " (7, 6),\n",
       " (7, 0),\n",
       " (7, 3),\n",
       " (0, 1),\n",
       " (7, 1),\n",
       " (7, 1),\n",
       " (7, 5),\n",
       " (7, 6),\n",
       " (6, 7),\n",
       " (10, 4),\n",
       " (10, 4),\n",
       " (0, 7),\n",
       " (0, 7),\n",
       " (0, 7),\n",
       " (0, 7),\n",
       " (7, 7),\n",
       " (7, 2),\n",
       " (7, 3),\n",
       " (7, 0),\n",
       " (10, 0),\n",
       " (7, 6),\n",
       " (7, 6),\n",
       " (7, 6),\n",
       " (11, 7),\n",
       " (7, 7),\n",
       " (7, 7),\n",
       " (7, 7),\n",
       " (7, 8),\n",
       " (0, 6),\n",
       " (0, 6),\n",
       " (7, 9),\n",
       " (7, 9),\n",
       " (7, 2),\n",
       " (0, 7),\n",
       " (7, 6),\n",
       " (7, 3),\n",
       " (10, 0),\n",
       " (10, 8),\n",
       " (7, 3),\n",
       " (7, 0),\n",
       " (7, 4),\n",
       " (6, 9),\n",
       " (0, 6),\n",
       " (0, 6),\n",
       " (0, 6),\n",
       " (7, 7),\n",
       " (7, 6),\n",
       " (10, 1),\n",
       " (11, 9),\n",
       " (7, 1),\n",
       " (6, 6),\n",
       " (6, 6),\n",
       " (11, 11),\n",
       " (0, 10),\n",
       " (7, 6),\n",
       " (7, 6),\n",
       " (6, 7),\n",
       " (7, 4),\n",
       " (7, 2),\n",
       " (7, 2),\n",
       " (7, 2),\n",
       " (7, 10),\n",
       " (7, 0),\n",
       " (6, 1),\n",
       " (7, 1),\n",
       " (7, 0),\n",
       " (7, 0),\n",
       " (7, 6),\n",
       " (7, 6),\n",
       " (10, 7),\n",
       " (7, 3),\n",
       " (6, 7),\n",
       " (7, 2),\n",
       " (7, 2),\n",
       " (10, 7),\n",
       " (7, 0),\n",
       " (7, 4),\n",
       " (7, 6),\n",
       " (7, 0),\n",
       " (7, 9),\n",
       " (7, 5),\n",
       " (7, 2),\n",
       " (10, 4),\n",
       " (7, 0),\n",
       " (0, 4),\n",
       " (0, 4),\n",
       " (10, 1),\n",
       " (11, 11),\n",
       " (0, 11),\n",
       " (0, 11),\n",
       " (7, 7),\n",
       " (7, 8),\n",
       " (7, 7),\n",
       " (7, 1),\n",
       " (7, 7),\n",
       " (7, 10),\n",
       " (7, 8),\n",
       " (7, 8),\n",
       " (10, 11),\n",
       " (7, 3),\n",
       " (7, 6),\n",
       " (10, 10),\n",
       " (7, 3),\n",
       " (7, 6),\n",
       " (7, 7),\n",
       " (6, 0),\n",
       " (11, 4),\n",
       " (7, 0),\n",
       " (7, 6),\n",
       " (7, 6),\n",
       " (7, 6),\n",
       " (7, 6),\n",
       " (10, 9),\n",
       " (7, 2),\n",
       " (0, 3),\n",
       " (11, 8),\n",
       " (10, 0),\n",
       " (7, 10),\n",
       " (11, 6),\n",
       " (10, 7),\n",
       " (7, 10),\n",
       " (7, 7),\n",
       " (7, 0),\n",
       " (7, 0),\n",
       " (7, 1),\n",
       " (10, 11),\n",
       " (10, 11),\n",
       " (7, 1),\n",
       " (7, 1),\n",
       " (7, 1),\n",
       " (10, 5),\n",
       " (10, 5),\n",
       " (7, 0),\n",
       " (10, 2),\n",
       " (10, 2),\n",
       " (7, 1),\n",
       " (7, 7),\n",
       " (0, 1),\n",
       " (7, 10),\n",
       " (0, 0),\n",
       " (0, 0),\n",
       " (0, 0),\n",
       " (7, 8),\n",
       " (7, 8),\n",
       " (7, 8),\n",
       " (7, 2),\n",
       " (7, 2),\n",
       " (7, 2),\n",
       " (10, 0),\n",
       " (10, 10),\n",
       " (7, 6),\n",
       " (7, 10),\n",
       " (0, 0),\n",
       " (7, 7),\n",
       " (7, 6),\n",
       " (7, 10),\n",
       " (7, 10),\n",
       " (7, 3),\n",
       " (7, 4),\n",
       " (7, 3),\n",
       " (7, 2),\n",
       " (6, 7),\n",
       " (7, 6),\n",
       " (11, 2),\n",
       " (10, 1),\n",
       " (10, 1),\n",
       " (10, 1),\n",
       " (10, 5),\n",
       " (7, 11),\n",
       " (7, 5),\n",
       " (7, 8),\n",
       " (7, 8),\n",
       " (7, 1),\n",
       " (7, 5),\n",
       " (7, 8),\n",
       " (10, 8),\n",
       " (7, 7),\n",
       " (0, 1),\n",
       " (11, 0),\n",
       " (7, 6),\n",
       " (10, 3),\n",
       " (7, 6),\n",
       " (7, 9),\n",
       " (10, 1),\n",
       " (7, 6),\n",
       " (0, 3),\n",
       " (7, 0),\n",
       " (7, 0),\n",
       " (7, 6),\n",
       " (0, 0),\n",
       " (10, 9),\n",
       " (7, 7),\n",
       " (7, 11),\n",
       " (7, 7),\n",
       " (7, 10),\n",
       " (7, 9),\n",
       " (7, 9),\n",
       " (7, 9),\n",
       " (7, 8),\n",
       " (7, 8),\n",
       " (7, 7),\n",
       " (10, 9),\n",
       " (7, 6),\n",
       " (7, 1),\n",
       " (7, 1),\n",
       " (10, 9),\n",
       " (7, 7),\n",
       " (7, 6),\n",
       " (7, 8),\n",
       " (7, 8),\n",
       " (7, 7),\n",
       " (7, 7),\n",
       " (7, 11),\n",
       " (7, 0),\n",
       " (7, 7),\n",
       " (7, 0),\n",
       " (10, 4),\n",
       " (10, 7),\n",
       " (7, 11),\n",
       " (7, 0),\n",
       " (10, 0),\n",
       " (7, 6),\n",
       " (10, 0),\n",
       " (11, 3),\n",
       " (10, 7),\n",
       " (7, 7),\n",
       " (7, 6),\n",
       " (10, 0),\n",
       " (10, 0),\n",
       " (10, 0),\n",
       " (10, 0),\n",
       " (10, 0),\n",
       " (10, 0),\n",
       " (10, 0),\n",
       " (7, 9),\n",
       " (7, 7),\n",
       " (6, 6),\n",
       " (7, 7),\n",
       " (0, 2),\n",
       " (7, 2),\n",
       " (7, 2),\n",
       " (7, 6),\n",
       " (7, 6),\n",
       " (7, 7),\n",
       " (6, 4),\n",
       " (7, 2),\n",
       " (7, 5),\n",
       " (7, 9),\n",
       " (7, 8),\n",
       " (7, 6),\n",
       " (7, 9),\n",
       " (7, 7),\n",
       " (7, 11),\n",
       " (7, 11),\n",
       " (7, 3),\n",
       " (7, 0),\n",
       " (7, 6),\n",
       " ...]"
      ]
     },
     "execution_count": 119,
     "metadata": {},
     "output_type": "execute_result"
    }
   ],
   "source": [
    "zip(dt.predict(X),y)"
   ]
  },
  {
   "cell_type": "code",
   "execution_count": 120,
   "metadata": {
    "collapsed": false
   },
   "outputs": [
    {
     "data": {
      "image/png": "[encoded data removed]",
      "text/plain": [
       "<IPython.core.display.Image object>"
      ]
     },
     "execution_count": 120,
     "metadata": {},
     "output_type": "execute_result"
    }
   ],
   "source": [
    "import StringIO\n",
    "s = StringIO.StringIO()\n",
    "sklearn.tree.export_graphviz(dt, out_file=s, feature_names=['brand', 'model','Category', 'installed', 'active', 'event_counts'])\n",
    "\n",
    "import pydotplus\n",
    "graph = pydotplus.graph_from_dot_data(s.getvalue())\n",
    "import IPython.display\n",
    "IPython.display.Image(graph.create_png())"
   ]
  },
  {
   "cell_type": "code",
   "execution_count": 95,
   "metadata": {
    "collapsed": true
   },
   "outputs": [],
   "source": [
    "import sklearn.cross_validation"
   ]
  },
  {
   "cell_type": "code",
   "execution_count": 121,
   "metadata": {
    "collapsed": false
   },
   "outputs": [
    {
     "data": {
      "text/plain": [
       "0.1419252130250844"
      ]
     },
     "execution_count": 121,
     "metadata": {},
     "output_type": "execute_result"
    }
   ],
   "source": [
    "sklearn.cross_validation.cross_val_score(dt, X, y, cv=5, scoring='accuracy').mean()"
   ]
  },
  {
   "cell_type": "code",
   "execution_count": 122,
   "metadata": {
    "collapsed": false
   },
   "outputs": [
    {
     "data": {
      "text/plain": [
       "array([-2.41275418, -2.40876211, -2.41270902, -2.40419431, -2.42053157])"
      ]
     },
     "execution_count": 122,
     "metadata": {},
     "output_type": "execute_result"
    }
   ],
   "source": [
    "sklearn.cross_validation.cross_val_score(dt, X, y, cv=5, scoring='log_loss')"
   ]
  },
  {
   "cell_type": "markdown",
   "metadata": {},
   "source": [
    "# Algorithm Spot-check"
   ]
  },
  {
   "cell_type": "code",
   "execution_count": 124,
   "metadata": {
    "collapsed": false
   },
   "outputs": [
    {
     "name": "stdout",
     "output_type": "stream",
     "text": [
      "LR: (0.140) +/- (0.009)\n",
      "CART: (0.128) +/- (0.004)\n"
     ]
    }
   ],
   "source": [
    "from sklearn.linear_model import LogisticRegression\n",
    "seed = 7\n",
    "processors=1\n",
    "num_folds=5\n",
    "num_instances=len(X)\n",
    "scoring='accuracy'\n",
    "\n",
    "kfold = sklearn.cross_validation.KFold(n=num_instances, n_folds=num_folds, random_state=seed)\n",
    "\n",
    "# Prepare some basic models\n",
    "models = []\n",
    "models.append(('LR', LogisticRegression()))\n",
    "#models.append(('LDA', LinearDiscriminantAnalysis()))\n",
    "#models.append(('K-NN', KNeighborsClassifier(n_neighbors=5)))\n",
    "models.append(('CART', sklearn.tree.DecisionTreeClassifier()))\n",
    "#models.append(('NB', GaussianNB()))\n",
    "#models.append(('SVC', SVC(probability=True)))\n",
    "\n",
    "# Evaluate each model in turn\n",
    "results = []\n",
    "names = []\n",
    "\n",
    "for name, model in models:\n",
    "    cv_results = sklearn.cross_validation.cross_val_score(model, X, y, cv=kfold, scoring=scoring, n_jobs=processors)\n",
    "    results.append(cv_results)\n",
    "    names.append(name)\n",
    "    print(\"{0}: ({1:.3f}) +/- ({2:.3f})\".format(name, cv_results.mean(), cv_results.std()))"
   ]
  },
  {
   "cell_type": "markdown",
   "metadata": {},
   "source": [
    "# Ensemble...\n",
    "\n",
    "1) Bagged Decision Trees"
   ]
  },
  {
   "cell_type": "code",
   "execution_count": 125,
   "metadata": {
    "collapsed": false
   },
   "outputs": [
    {
     "name": "stdout",
     "output_type": "stream",
     "text": [
      "(0.131) +/- (0.004)\n"
     ]
    }
   ],
   "source": [
    "cart = sklearn.tree.DecisionTreeClassifier()\n",
    "num_trees = 100\n",
    "\n",
    "model = sklearn.ensemble.BaggingClassifier(base_estimator=cart, n_estimators=num_trees, random_state=seed)\n",
    "\n",
    "results = sklearn.cross_validation.cross_val_score(model, X, y, cv=kfold, scoring=scoring, n_jobs=processors)\n",
    "print(\"({0:.3f}) +/- ({1:.3f})\".format(results.mean(), results.std()))"
   ]
  },
  {
   "cell_type": "markdown",
   "metadata": {},
   "source": [
    "2) Random Forest"
   ]
  },
  {
   "cell_type": "code",
   "execution_count": 106,
   "metadata": {
    "collapsed": false
   },
   "outputs": [
    {
     "name": "stdout",
     "output_type": "stream",
     "text": [
      "(0.134) +/- (0.003)\n"
     ]
    }
   ],
   "source": [
    "num_trees = 100\n",
    "num_features = 3\n",
    "\n",
    "model = sklearn.ensemble.RandomForestClassifier(n_estimators=num_trees, max_features=num_features)\n",
    "\n",
    "results = sklearn.cross_validation.cross_val_score(model, X1, y, cv=kfold, scoring=scoring, n_jobs=processors)\n",
    "print(\"({0:.3f}) +/- ({1:.3f})\".format(results.mean(), results.std()))"
   ]
  },
  {
   "cell_type": "markdown",
   "metadata": {},
   "source": [
    "# Hyper-parameter tuning / Brute Force"
   ]
  },
  {
   "cell_type": "markdown",
   "metadata": {},
   "source": [
    "# 1) Decision Tree"
   ]
  },
  {
   "cell_type": "code",
   "execution_count": 108,
   "metadata": {
    "collapsed": false
   },
   "outputs": [
    {
     "name": "stdout",
     "output_type": "stream",
     "text": [
      "0.138951034899\n",
      "{'max_features': 3, 'criterion': 'gini', 'max_depth': 3}\n"
     ]
    }
   ],
   "source": [
    "rf_grid = sklearn.grid_search.GridSearchCV(\n",
    "    estimator = sklearn.tree.DecisionTreeClassifier(),\n",
    "    param_grid = {\n",
    "        'criterion': ['gini', 'entropy'],\n",
    "        'max_features': [1, 3],\n",
    "        'max_depth': [3, 25],\n",
    "        }, \n",
    "    cv = kfold, \n",
    "    scoring = scoring, \n",
    "    n_jobs = processors)\n",
    "\n",
    "rf_grid.fit(X1, y)\n",
    "\n",
    "print(rf_grid.best_score_)\n",
    "print(rf_grid.best_params_)"
   ]
  },
  {
   "cell_type": "markdown",
   "metadata": {},
   "source": [
    "# 2) Random Forest"
   ]
  },
  {
   "cell_type": "code",
   "execution_count": 109,
   "metadata": {
    "collapsed": false
   },
   "outputs": [
    {
     "name": "stdout",
     "output_type": "stream",
     "text": [
      "0.138214213946\n",
      "{'max_features': 1, 'n_estimators': 100, 'bootstrap': True, 'criterion': 'entropy', 'max_depth': 3}\n"
     ]
    }
   ],
   "source": [
    "rf_grid = sklearn.grid_search.GridSearchCV(\n",
    "    estimator = sklearn.ensemble.RandomForestClassifier(warm_start=True, random_state=seed),\n",
    "    param_grid = {\n",
    "        'n_estimators': [100, 200],\n",
    "        'criterion': ['gini', 'entropy'],\n",
    "        'max_features': [1, 3],\n",
    "        'max_depth': [3, 25],\n",
    "        'bootstrap': [True]\n",
    "    }, \n",
    "    cv = kfold, \n",
    "    scoring = scoring, \n",
    "    n_jobs = processors)\n",
    "\n",
    "rf_grid.fit(X1, y)\n",
    "\n",
    "print(rf_grid.best_score_)\n",
    "print(rf_grid.best_params_)"
   ]
  },
  {
   "cell_type": "code",
   "execution_count": null,
   "metadata": {
    "collapsed": true
   },
   "outputs": [],
   "source": []
  }
 ],
 "metadata": {
  "kernelspec": {
   "display_name": "Python 2",
   "language": "python",
   "name": "python2"
  },
  "language_info": {
   "codemirror_mode": {
    "name": "ipython",
    "version": 2
   },
   "file_extension": ".py",
   "mimetype": "text/x-python",
   "name": "python",
   "nbconvert_exporter": "python",
   "pygments_lexer": "ipython2",
   "version": "2.7.12"
  }
 },
 "nbformat": 4,
 "nbformat_minor": 0
}
